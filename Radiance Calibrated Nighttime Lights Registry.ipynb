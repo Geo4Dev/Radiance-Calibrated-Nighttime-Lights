{
 "metadata": {
  "language_info": {
   "codemirror_mode": {
    "name": "ipython",
    "version": 3
   },
   "file_extension": ".py",
   "mimetype": "text/x-python",
   "name": "python",
   "nbconvert_exporter": "python",
   "pygments_lexer": "ipython3",
   "version": 3
  },
  "orig_nbformat": 2
 },
 "nbformat": 4,
 "nbformat_minor": 2,
 "cells": [
  {
   "cell_type": "markdown",
   "source": [
    "# Radiance Calibrated Nighttime Lights Registry\n",
    "## Description\n",
    "  \n",
    "Sensors aboard Defense Meteorological Satellite Program (DMSP) satellites have been providing low-light imaging of the Earth's surface since the 1960s, with a digital archive established in 1992 at NOAA's National Centers for Environmental Information ([NCEI](https://www.ngdc.noaa.gov/)), formerly the National Geophysical Data Center (NGDC). The Operational Linescan System (OLS) onboard the DMSP satellites (DMSP-OLS) provided the primary data on nighttime lights until 2011. While the DMSP-OLS product was discontinued in 2014, the data stored in NOAA's archive still serves as the primary source of nighttime light data from 1992-2014, and as such is a valuable tool for academics and policy makers. While advanced for its time, limitations in the technology meant the majority of DMSP-OLS sensors recorded **saturatation over bright urban centers.** This means all values record as the maximum value, leaving the variability within urban cores unresolvable.\n",
    "  \n",
    "To account for the saturation of city centers in the DMSP-OLS nighttime light data, a limited set of observations were also collected with settings which make the sensor less able to identify dim lights, but able to distinguish variation within bright areas. To provide this additional detail, the data collected from these sensors were merged with the primary nighttime light product to recover the variation. These **radiance calibrated** data are available from 1996 to 2010 at intervals of 1 to 4 years. \n",
    "\n",
    "This product is unitless due to variable gain settings and a degredation in the sensors over time, and thus is recommended only for use which doesn't require numeric radiance values. Due to the differences in sensors and gain levels over time, it is necessary to perform inter-annual calibration to compare the radiance calibrated data from different years.   \n",
    "  \n",
    "  \n",
    "## Updating Frequency\n",
    "Radiance calibrated data are available from 1996 to 2010 at intervals of 1 to 4 years. They were last updated in 2014 and have been discontinued.\n",
    "\n",
    "## Documentation\n",
    "https://ngdc.noaa.gov/eog/dmsp/radcal_readme.txt\n",
    "\n",
    "## Accessig Requirements\n",
    "For direct download: None\n",
    "For access through Google Earth Engine API: Sign up to GEE platform here https://signup.earthengine.google.com/. For use of the Python API, a Python environment should be set up on the machine. For one tutorial of Python set-up, see the [World Bank Open Nighttime Lights Tutorial](https://worldbank.github.io/OpenNightLights/tutorials/mod2_2_getting_started_with_Python.html). \n",
    "\n",
    "## URL\n",
    "For direct download: https://ngdc.noaa.gov/eog/dmsp/download_radcal.html\n",
    "For access through Google Earth Engine API: https://developers.google.com/earth-engine/datasets/catalog/NOAA_DMSP-OLS_CALIBRATED_LIGHTS_V4?hl=en\n",
    "\n",
    "# Tools and Usage Examples\n",
    "## Tools\n",
    "* Geo4Dev Radiance Calibrated Nighttime Lights Learning Module\n",
    "\n",
    "## Usage Examples\n",
    "* [Subways and Urban Growth: Evidence from Earth](https://www.nber.org/system/files/working_papers/w24996/w24996.pdf) by Marco Gonzalez-Navarro and Matthew A. Turner"
   ],
   "metadata": {}
  }
 ]
}