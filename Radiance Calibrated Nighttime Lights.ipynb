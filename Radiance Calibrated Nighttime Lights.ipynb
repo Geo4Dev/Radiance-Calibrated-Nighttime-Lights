{
 "cells": [
  {
   "cell_type": "markdown",
   "source": [
    "# INTRODUCTION \n",
    "\n",
    "Much of the introduction was taken directly or adapted from the World Bank's [Open Nighttime Lights Tutorial](https://worldbank.github.io/OpenNightLights/welcome.html), which also provides guidance on using nighttime light data from satellites. The following Radiance Calibrated Nighttime Lights Tutorial differs from the Open Nighttime Lights Tutorial in focusing on data from sensors which were calibrated to avoid saturation of urban centers. For more details on Remote Sensing and the Nighttime Lights data, including videos, see the Open Nighttime Lights Tutorial.   \n",
    "  \n",
    "This tutorial draws inspiration for the analyses of Radiance Calibrated Nighttime Lights from \"Subways and Urban Growth: Evidence from Earth\" (2018), by Marco Gonzalez-Navarro and Matthew Turner. However, it does not directly follow the methodology used in this paper for all calculations. As such, certain values may differ from those obtained by Gonzalez-Navarro and Turner when compared at a granular level."
   ],
   "metadata": {}
  },
  {
   "cell_type": "markdown",
   "source": [
    "## Introduction to Remote Sensing\n",
    "\n",
    "This section is adopted from module 1, section 1 of [Open Nighttime Lights](https://worldbank.github.io/OpenNightLights/tutorials/mod1_1_introduction_to_remote_sensing.html).\n",
    "\n",
    "**Remote sensing** is the science of identifying, observing, collecting, and measuring objects without coming into direct contact with them. This can be accomplished through many devices that carry sensors and capture the characteristics of Earth remotely. Sensors on board satellites also record the electromagnetic energy that is reflected or emitted from objects on Earth. There are two types of sensors:\n",
    "\n",
    "* **Passive sensors** record the natural energy that is (naturally) reflected or emitted from the Earth's surface (e.g. sunlight, moonlight, city lights).\n",
    "* **Active sensors** provide their own energy source for illumination (e.g. RADAR, LIDAR)."
   ],
   "metadata": {}
  },
  {
   "cell_type": "markdown",
   "source": [
    "## Introduction to Radiance Calibrated Nighttime Light Data\n",
    "\n",
    "This section is adapted from module 1, section 2 of [Open Nighttime Lights](https://worldbank.github.io/OpenNightLights/tutorials/mod1_2_introduction_to_nighttime_light_data.html).\n",
    "\n",
    "### DMSP-OLS Overview\n",
    "\n",
    "Sensors aboard Defense Meteorological Satellite Program (DMSP) satellites have been providing low-light imaging of the Earth's surface since the 1960s, with a digital archive established in 1992 at NOAA's National Centers for Environmental Information ([NCEI](https://www.ngdc.noaa.gov/)), formerly the National Geophysical Data Center (NGDC). The Operational Linescan System (OLS) onboard the DMSP satellites (DMSP-OLS) provided the primary data on nighttime lights until the introduction of the Joint Polar Satellite System (JPSS) program, which officially launched its first satellite in 2017. This JPSS program uses the Visible Infrared Imaging Radiometer Suite Day/Night Band (VIIRS-DNB) sensor, the first of which was launched aboard the S-NPP satellite in 2011 to serve as a transition between DMSP and JPSS. While the DMSP-OLS product was discontinued in 2014, the data stored in NOAA's archive still serves as the primary source of nighttime light data from 1992-2014, and as such is a valuable tool for academics and policy makers. \n",
    "\n",
    "### DMSP-OLS Usage and Limitations\n",
    "\n",
    "While advanced for its time, the OLS is now old technology and was essentially unchanged since 1976 with the start of the Block 5D series of DMSP satellites. The OLS VIS, the low-light imaging band, has only **6-bit quantization** (its digital values range from 0-63). The **gain** of the instrument, which is a multiplier on the signal (analogous to a volume setting), is adjusted on-the-fly onboard the satellite via an algorithm that takes into account the amount of expected moonlight and sunlight for the time and location. The dynamic gain adjustment of the OLS allows the VIS sensor to produce meaningful imagery under a wide range of conditions, from full sunlight during the day to a dark night with the moon below the horizon. The OLS gain states are not recorded in the global OLS data that is relayed back to the ground stations, **making any downstream calibration difficult to achieve.** The OLS VIS band has no **on-board calibration**, so the 64 (0-63) values are only relative values based on the gain in which the data were recorded. The lack of on-board calibration also means the the DMSP-OLS annual stable lights series derived from multiple OLS sensors and different years (1992–2013) are not comparable directly without inter-calibration.\n",
    "\n",
    "For nighttime data, only imagery from nights with no moonlight present was included. Under no moonlight conditions, the dynamic gain algorithm sets the VIS gain to its maximum value. Using only these data gave some assurance that the gain was constant (albeit unknown) and that it was reasonable to temporally average these VIS band values. The high gain setting also meant that dimmer lights could be detected in the composites. The downside is that when the gain is set to its maximum value, the VIS band, with its 6-bit radiometric resolution, **saturates over bright urban centers.** This means all values have the maximum value of 63 leaving the variability within urban cores unresolvable (Figure 1.1).\n",
    "\n",
    "<img src=\"img/mod1-2-dmsp-saturation.png\" width=\"700\" align=\"center\"/>  \n",
    "**Figure 1.1** A subset of the F18 2013 stable lights composite over Chicago and surrounding communities illustrates the effect that saturation in the DMSP-OLS VIS band has on the information content in urban centers. The upper left image is a grayscale image where the horizontal and vertical red lines are the locations for the profile data plotted in the two charts. The upper right image is the same subset, but with saturated values colored red. Notice that most of the Chicago metropolitan area is saturated so no further detail is available using these data. The two charts are plots of transects through the image, showing the average DN value in the composite along horizontal and vertical tracks through Chicago. While there is variation in average DN values across the smaller towns, the larger urban cores are saturated.\n",
    "\n",
    "\n",
    "**Saturation** occurs when pixels in bright areas, such as in city centers, reach the highest possible digital number (DN) value (i.e., 63) and no further details can be recognized.\n",
    "\n",
    "### Radiance Calibrated Nighttime Light Data\n",
    "\n",
    "To account for the saturation of city centers in the DMSP-OLS nighttime light data, a limited set of observations were also collected with lower gain settings, making the sensor less sensitive to light. While this makes the sensor less able to identify dim lights, for the purposes of studying lighting within city boundaries it is a more useful source than the standard DMSP-OLS data. To provide this additional detail, the data collected from the sensors at lower gain levels were merged with the primary nighttime light product to recover the variation within bright areas. Radiance calibrated data are available from 1996 to 2010 at intervals of 1 to 4 years. \n",
    "\n",
    "Given that the DMSP-OLS sensors had differing levels of sensitivity, the gain levels at which the sensors were set are not consistent across different satellites. When merging the radiance calibrated data, this is addressed by using the highest level of gain as a reference and weighting the lower-level gain data accordingly. This product is unitless due to the variable gain settings and a degredation in the sensors over time, and thus is recommended only for use which doesn't require numeric radiance values. Due to the differences in sensors and gain levels over time, it is necessary to perform inter-annual calibration to compare the radiance calibrated data from different years. "
   ],
   "metadata": {}
  },
  {
   "cell_type": "markdown",
   "source": [
    "# INTRODUCTION TO GEOSPATIAL DATA AND TOOLS\n",
    "\n",
    "## Data Structure\n",
    "In geospatial data analysis, data can be classified into two categories: raster and vector data. A graphic comparison between raster and vector data can be found in the World Bank [Nighttime Lights Tutorial module 2, section 1](https://worldbank.github.io/OpenNightLights/tutorials/mod2_1_data_overview.html).\n",
    "\n",
    "* **Raster data**: Data stored in a raster format is arranged in a regular grid of cells, without storing the coordinates of each point (namely, a cell, or a pixel). The coordinates of the corner points and the spacing of the grid can be used to calculate (rather than to store) the coordinates of each location in the grid. Any given pixel in the grid stores one or more values (in one or more bands).\n",
    "* **Vector data**: Data in a vector format is stored such that the X and Y coordinates are stored for each point. Data can be represented, for example, as points, lines and polygons. A point has only one coordinate (X and Y), a line has two or more coordinates, and a polygon is essentially a line that closes on itself to enclose a region. Polygons are usually used to represent the area and perimeter of continuous geographic features. Vector data stores features in their original resolution, without aggregation.  \n",
    "    \n",
    "In this tutorial, we will use vector and raster data. Geospatial data in vector format are often stored in a **shapefile**, a popular format for storing vector data developed by ESRI. The **shapefile** format is actually composed of multiple individual files which make up the entire data. At a minimum, there will be 3 file types included with this geographic data (.shp, .shx, .dbf), but there are often other files included which store additional information. In order to be read and used as a whole, all file types must have the same name and be in the same folder. Because the structure of points, lines, and polygons are different, each shapefile can only contain one vector type (all points, all lines, or all polygons). You will not find a mixture of point, line, and polygon objects in a single shapefile, so in order to work with these different types in the same analysis, multiple shapefiles will need to be used and layered. For more details on shapefiles and file types, see [this documentation](https://desktop.arcgis.com/en/arcmap/latest/manage-data/shapefiles/shapefile-file-extensions.htm).  \n",
    "    \n",
    "Raster data, on the other hand, is stored in Tagged Image File Format (TIFF or TIF). A GeoTIFF is a TIFF file that follows a specific standard for structuring meta-data. The meta-data stored in a TIFF is called a tif tag and GeoTIFFs often contain tags including spatial extent, coordinate reference system, resolution, and number of layers.   \n",
    "  \n",
    "More information and examples can be found in sections 3 & 4 of the [Earth Analytics Course](https://www.earthdatascience.org/courses/earth-analytics/).  \n"
   ],
   "metadata": {}
  },
  {
   "cell_type": "markdown",
   "source": [
    "## Python and Google Earth Engine API\n",
    "\n",
    "To perform our analysis, we'll obtain the Radiance Calibrated Nighttime Light data from [Google Earth Engine](https://earthengine.google.com/). For necessary Python setup and an introduction to our use of the GEE Python API, see the [World Bank Nighttime Light Tutorial](https://worldbank.github.io/OpenNightLights/tutorials/mod2_2_getting_started_with_Python.html), module 2 sections 2-5. In particular, before proceeding you will need to have `jupyter` and `geemap` installed on your machine, and you will need to apply for a Google Earth Engine account [here](https://signup.earthengine.google.com/). **It may take a day or longer** for your Google Earth Engine account to be granted access.  \n",
    "  \n",
    "Two of the primary packages we'll be using, Pandas and GeoPandas, must be installed according to their installation instructions: [Pandas Installation](https://pandas.pydata.org/pandas-docs/stable/getting_started/install.html) and [GeoPandas Installation](https://geopandas.org/getting_started/install.html). If you're on Windows, GeoPandas installation can occasionally be temperamental - using an environment, as described in the World Bank Nighttime Lights Tutorial, can often circumvent any issues, but if you're still having problems, there are a number of guides online, such as this [Practial Data Science guide](https://www.practicaldatascience.org/html/gis_setup_geopandas.html) or this [Medium post](https://nayanemaia.medium.com/installing-geopandas-on-windows-aadd762c557c) by Nayane Maia, which provide installation help. Using [Windows Subsystem for Linux (WSL)](https://docs.microsoft.com/en-us/windows/python/web-frameworks) can also make use of tricky packages like GeoPandas easier.  "
   ],
   "metadata": {}
  },
  {
   "cell_type": "markdown",
   "source": [
    "## Accessing the Radiance Calibrated Nighttime Lights Data\n",
    "\n",
    "While the Radiance Calibrated Nighttime Lights data can be downloaded directly as GeoTIFFs from the [NOAA/NCEI Earth Observation Group site](https://ngdc.noaa.gov/eog/dmsp/download_radcal.html), it can be more convienent and efficient to use Google Earth Engine's API to create a standardized process to ingest these data, particularly if more than one file is desired for analysis. We'll follow the [World Bank Nighttime Light Tutorial, module 2, section 6](https://worldbank.github.io/OpenNightLights/tutorials/mod2_6_practical_exercise-image_visualization.html), though with the Radiance Calibrated data rather than the standard DMSP-OLS data. First, we'll initialize (or authenticate, for the first use) our connection to Google Earth Engine. Next, we can view a map of the area we'll be working with for our examples today: Istanbul, Turkey."
   ],
   "metadata": {}
  },
  {
   "cell_type": "code",
   "execution_count": 17,
   "source": [
    "import geemap.eefolium, ee\n",
    "import pandas as pd\n",
    "try:\n",
    "        ee.Initialize()\n",
    "except Exception as e:\n",
    "        ee.Authenticate()\n",
    "        ee.Initialize()"
   ],
   "outputs": [],
   "metadata": {}
  },
  {
   "cell_type": "code",
   "execution_count": 2,
   "source": [
    "# set our initial map parameters for Istanbul, Turkey\n",
    "center_lon = 28.95\n",
    "center_lat = 41.03 \n",
    "zoomlevel=11\n",
    "\n",
    "# initialize our map\n",
    "IstMap = geemap.eefolium.Map(center=[center_lat,center_lon], zoom=zoomlevel)\n",
    "\n",
    "IstMap"
   ],
   "outputs": [
    {
     "output_type": "execute_result",
     "data": {
      "text/html": [
       "<div style=\"width:100%;\"><div style=\"position:relative;width:100%;height:0;padding-bottom:60%;\"><span style=\"color:#565656\">Make this Notebook Trusted to load map: File -> Trust Notebook</span><iframe src=\"about:blank\" style=\"position:absolute;width:100%;height:100%;left:0;top:0;border:none !important;\" data-html=%3C%21DOCTYPE%20html%3E%0A%3Chead%3E%20%20%20%20%0A%20%20%20%20%3Cmeta%20http-equiv%3D%22content-type%22%20content%3D%22text/html%3B%20charset%3DUTF-8%22%20/%3E%0A%20%20%20%20%0A%20%20%20%20%20%20%20%20%3Cscript%3E%0A%20%20%20%20%20%20%20%20%20%20%20%20L_NO_TOUCH%20%3D%20false%3B%0A%20%20%20%20%20%20%20%20%20%20%20%20L_DISABLE_3D%20%3D%20false%3B%0A%20%20%20%20%20%20%20%20%3C/script%3E%0A%20%20%20%20%0A%20%20%20%20%3Cstyle%3Ehtml%2C%20body%20%7Bwidth%3A%20100%25%3Bheight%3A%20100%25%3Bmargin%3A%200%3Bpadding%3A%200%3B%7D%3C/style%3E%0A%20%20%20%20%3Cstyle%3E%23map%20%7Bposition%3Aabsolute%3Btop%3A0%3Bbottom%3A0%3Bright%3A0%3Bleft%3A0%3B%7D%3C/style%3E%0A%20%20%20%20%3Cscript%20src%3D%22https%3A//cdn.jsdelivr.net/npm/leaflet%401.6.0/dist/leaflet.js%22%3E%3C/script%3E%0A%20%20%20%20%3Cscript%20src%3D%22https%3A//code.jquery.com/jquery-1.12.4.min.js%22%3E%3C/script%3E%0A%20%20%20%20%3Cscript%20src%3D%22https%3A//maxcdn.bootstrapcdn.com/bootstrap/3.2.0/js/bootstrap.min.js%22%3E%3C/script%3E%0A%20%20%20%20%3Cscript%20src%3D%22https%3A//cdnjs.cloudflare.com/ajax/libs/Leaflet.awesome-markers/2.0.2/leaflet.awesome-markers.js%22%3E%3C/script%3E%0A%20%20%20%20%3Clink%20rel%3D%22stylesheet%22%20href%3D%22https%3A//cdn.jsdelivr.net/npm/leaflet%401.6.0/dist/leaflet.css%22/%3E%0A%20%20%20%20%3Clink%20rel%3D%22stylesheet%22%20href%3D%22https%3A//maxcdn.bootstrapcdn.com/bootstrap/3.2.0/css/bootstrap.min.css%22/%3E%0A%20%20%20%20%3Clink%20rel%3D%22stylesheet%22%20href%3D%22https%3A//maxcdn.bootstrapcdn.com/bootstrap/3.2.0/css/bootstrap-theme.min.css%22/%3E%0A%20%20%20%20%3Clink%20rel%3D%22stylesheet%22%20href%3D%22https%3A//maxcdn.bootstrapcdn.com/font-awesome/4.6.3/css/font-awesome.min.css%22/%3E%0A%20%20%20%20%3Clink%20rel%3D%22stylesheet%22%20href%3D%22https%3A//cdnjs.cloudflare.com/ajax/libs/Leaflet.awesome-markers/2.0.2/leaflet.awesome-markers.css%22/%3E%0A%20%20%20%20%3Clink%20rel%3D%22stylesheet%22%20href%3D%22https%3A//cdn.jsdelivr.net/gh/python-visualization/folium/folium/templates/leaflet.awesome.rotate.min.css%22/%3E%0A%20%20%20%20%0A%20%20%20%20%20%20%20%20%20%20%20%20%3Cmeta%20name%3D%22viewport%22%20content%3D%22width%3Ddevice-width%2C%0A%20%20%20%20%20%20%20%20%20%20%20%20%20%20%20%20initial-scale%3D1.0%2C%20maximum-scale%3D1.0%2C%20user-scalable%3Dno%22%20/%3E%0A%20%20%20%20%20%20%20%20%20%20%20%20%3Cstyle%3E%0A%20%20%20%20%20%20%20%20%20%20%20%20%20%20%20%20%23map_ace55a9c2b01454ea06aecaa535d1d2c%20%7B%0A%20%20%20%20%20%20%20%20%20%20%20%20%20%20%20%20%20%20%20%20position%3A%20relative%3B%0A%20%20%20%20%20%20%20%20%20%20%20%20%20%20%20%20%20%20%20%20width%3A%20100.0%25%3B%0A%20%20%20%20%20%20%20%20%20%20%20%20%20%20%20%20%20%20%20%20height%3A%20100.0%25%3B%0A%20%20%20%20%20%20%20%20%20%20%20%20%20%20%20%20%20%20%20%20left%3A%200.0%25%3B%0A%20%20%20%20%20%20%20%20%20%20%20%20%20%20%20%20%20%20%20%20top%3A%200.0%25%3B%0A%20%20%20%20%20%20%20%20%20%20%20%20%20%20%20%20%7D%0A%20%20%20%20%20%20%20%20%20%20%20%20%3C/style%3E%0A%20%20%20%20%20%20%20%20%0A%20%20%20%20%3Cscript%20src%3D%22https%3A//cdnjs.cloudflare.com/ajax/libs/leaflet.fullscreen/1.4.2/Control.FullScreen.min.js%22%3E%3C/script%3E%0A%20%20%20%20%3Clink%20rel%3D%22stylesheet%22%20href%3D%22https%3A//cdnjs.cloudflare.com/ajax/libs/leaflet.fullscreen/1.4.2/Control.FullScreen.min.css%22/%3E%0A%3C/head%3E%0A%3Cbody%3E%20%20%20%20%0A%20%20%20%20%0A%20%20%20%20%20%20%20%20%20%20%20%20%3Cdiv%20class%3D%22folium-map%22%20id%3D%22map_ace55a9c2b01454ea06aecaa535d1d2c%22%20%3E%3C/div%3E%0A%20%20%20%20%20%20%20%20%0A%3C/body%3E%0A%3Cscript%3E%20%20%20%20%0A%20%20%20%20%0A%20%20%20%20%20%20%20%20%20%20%20%20var%20map_ace55a9c2b01454ea06aecaa535d1d2c%20%3D%20L.map%28%0A%20%20%20%20%20%20%20%20%20%20%20%20%20%20%20%20%22map_ace55a9c2b01454ea06aecaa535d1d2c%22%2C%0A%20%20%20%20%20%20%20%20%20%20%20%20%20%20%20%20%7B%0A%20%20%20%20%20%20%20%20%20%20%20%20%20%20%20%20%20%20%20%20center%3A%20%5B41.03%2C%2028.95%5D%2C%0A%20%20%20%20%20%20%20%20%20%20%20%20%20%20%20%20%20%20%20%20crs%3A%20L.CRS.EPSG3857%2C%0A%20%20%20%20%20%20%20%20%20%20%20%20%20%20%20%20%20%20%20%20zoom%3A%2011%2C%0A%20%20%20%20%20%20%20%20%20%20%20%20%20%20%20%20%20%20%20%20zoomControl%3A%20true%2C%0A%20%20%20%20%20%20%20%20%20%20%20%20%20%20%20%20%20%20%20%20preferCanvas%3A%20false%2C%0A%20%20%20%20%20%20%20%20%20%20%20%20%20%20%20%20%20%20%20%20eeInitialize%3A%20true%2C%0A%20%20%20%20%20%20%20%20%20%20%20%20%20%20%20%20%20%20%20%20addGoogleMap%3A%20true%2C%0A%20%20%20%20%20%20%20%20%20%20%20%20%20%20%20%20%20%20%20%20pluginLatlngpopup%3A%20true%2C%0A%20%20%20%20%20%20%20%20%20%20%20%20%20%20%20%20%20%20%20%20pluginFullscreen%3A%20true%2C%0A%20%20%20%20%20%20%20%20%20%20%20%20%20%20%20%20%20%20%20%20pluginDraw%3A%20false%2C%0A%20%20%20%20%20%20%20%20%20%20%20%20%20%20%20%20%20%20%20%20DrawExport%3A%20true%2C%0A%20%20%20%20%20%20%20%20%20%20%20%20%20%20%20%20%20%20%20%20pluginMinimap%3A%20false%2C%0A%20%20%20%20%20%20%20%20%20%20%20%20%20%20%20%20%20%20%20%20pluginLayercontrol%3A%20false%2C%0A%20%20%20%20%20%20%20%20%20%20%20%20%20%20%20%20%7D%0A%20%20%20%20%20%20%20%20%20%20%20%20%29%3B%0A%0A%20%20%20%20%20%20%20%20%20%20%20%20%0A%0A%20%20%20%20%20%20%20%20%0A%20%20%20%20%0A%20%20%20%20%20%20%20%20%20%20%20%20var%20tile_layer_35539fa9acc8411f8a4302aee7ca8b21%20%3D%20L.tileLayer%28%0A%20%20%20%20%20%20%20%20%20%20%20%20%20%20%20%20%22https%3A//%7Bs%7D.tile.openstreetmap.org/%7Bz%7D/%7Bx%7D/%7By%7D.png%22%2C%0A%20%20%20%20%20%20%20%20%20%20%20%20%20%20%20%20%7B%22attribution%22%3A%20%22Data%20by%20%5Cu0026copy%3B%20%5Cu003ca%20href%3D%5C%22http%3A//openstreetmap.org%5C%22%5Cu003eOpenStreetMap%5Cu003c/a%5Cu003e%2C%20under%20%5Cu003ca%20href%3D%5C%22http%3A//www.openstreetmap.org/copyright%5C%22%5Cu003eODbL%5Cu003c/a%5Cu003e.%22%2C%20%22detectRetina%22%3A%20false%2C%20%22maxNativeZoom%22%3A%2018%2C%20%22maxZoom%22%3A%2018%2C%20%22minZoom%22%3A%200%2C%20%22noWrap%22%3A%20false%2C%20%22opacity%22%3A%201%2C%20%22subdomains%22%3A%20%22abc%22%2C%20%22tms%22%3A%20false%7D%0A%20%20%20%20%20%20%20%20%20%20%20%20%29.addTo%28map_ace55a9c2b01454ea06aecaa535d1d2c%29%3B%0A%20%20%20%20%20%20%20%20%0A%20%20%20%20%0A%20%20%20%20%20%20%20%20%20%20%20%20var%20tile_layer_a19946855fa74e9e9127df05008cf6bf%20%3D%20L.tileLayer%28%0A%20%20%20%20%20%20%20%20%20%20%20%20%20%20%20%20%22https%3A//mt1.google.com/vt/lyrs%3Dm%5Cu0026x%3D%7Bx%7D%5Cu0026y%3D%7By%7D%5Cu0026z%3D%7Bz%7D%22%2C%0A%20%20%20%20%20%20%20%20%20%20%20%20%20%20%20%20%7B%22attribution%22%3A%20%22Google%22%2C%20%22detectRetina%22%3A%20false%2C%20%22maxNativeZoom%22%3A%2018%2C%20%22maxZoom%22%3A%2018%2C%20%22minZoom%22%3A%200%2C%20%22noWrap%22%3A%20false%2C%20%22opacity%22%3A%201%2C%20%22subdomains%22%3A%20%22abc%22%2C%20%22tms%22%3A%20false%7D%0A%20%20%20%20%20%20%20%20%20%20%20%20%29.addTo%28map_ace55a9c2b01454ea06aecaa535d1d2c%29%3B%0A%20%20%20%20%20%20%20%20%0A%20%20%20%20%0A%20%20%20%20%20%20%20%20%20%20%20%20%20%20%20%20var%20lat_lng_popup_5b8dd232838047e88d6dd16b2b35bbc5%20%3D%20L.popup%28%29%3B%0A%20%20%20%20%20%20%20%20%20%20%20%20%20%20%20%20function%20latLngPop%28e%29%20%7B%0A%20%20%20%20%20%20%20%20%20%20%20%20%20%20%20%20%20%20%20%20lat_lng_popup_5b8dd232838047e88d6dd16b2b35bbc5%0A%20%20%20%20%20%20%20%20%20%20%20%20%20%20%20%20%20%20%20%20%20%20%20%20.setLatLng%28e.latlng%29%0A%20%20%20%20%20%20%20%20%20%20%20%20%20%20%20%20%20%20%20%20%20%20%20%20.setContent%28%22Latitude%3A%20%22%20%2B%20e.latlng.lat.toFixed%284%29%20%2B%0A%20%20%20%20%20%20%20%20%20%20%20%20%20%20%20%20%20%20%20%20%20%20%20%20%20%20%20%20%20%20%20%20%20%20%20%20%22%3Cbr%3ELongitude%3A%20%22%20%2B%20e.latlng.lng.toFixed%284%29%29%0A%20%20%20%20%20%20%20%20%20%20%20%20%20%20%20%20%20%20%20%20%20%20%20%20.openOn%28map_ace55a9c2b01454ea06aecaa535d1d2c%29%3B%0A%20%20%20%20%20%20%20%20%20%20%20%20%20%20%20%20%20%20%20%20%7D%0A%20%20%20%20%20%20%20%20%20%20%20%20%20%20%20%20map_ace55a9c2b01454ea06aecaa535d1d2c.on%28%27click%27%2C%20latLngPop%29%3B%0A%20%20%20%20%20%20%20%20%20%20%20%20%0A%20%20%20%20%0A%20%20%20%20%20%20%20%20%20%20%20%20L.control.fullscreen%28%0A%20%20%20%20%20%20%20%20%20%20%20%20%20%20%20%20%7B%22forceSeparateButton%22%3A%20false%2C%20%22position%22%3A%20%22topleft%22%2C%20%22title%22%3A%20%22Full%20Screen%22%2C%20%22titleCancel%22%3A%20%22Exit%20Full%20Screen%22%7D%0A%20%20%20%20%20%20%20%20%20%20%20%20%29.addTo%28map_ace55a9c2b01454ea06aecaa535d1d2c%29%3B%0A%20%20%20%20%20%20%20%20%0A%20%20%20%20%0A%20%20%20%20%20%20%20%20%20%20%20%20map_ace55a9c2b01454ea06aecaa535d1d2c.fitBounds%28%0A%20%20%20%20%20%20%20%20%20%20%20%20%20%20%20%20%5B%5B41.03%2C%2028.95%5D%2C%20%5B41.03%2C%2028.95%5D%5D%2C%0A%20%20%20%20%20%20%20%20%20%20%20%20%20%20%20%20%7B%22maxZoom%22%3A%2011%7D%0A%20%20%20%20%20%20%20%20%20%20%20%20%29%3B%0A%20%20%20%20%20%20%20%20%0A%20%20%20%20%0A%20%20%20%20%20%20%20%20%20%20%20%20var%20layer_control_2040c535ead64aafacd9ed86061d83e6%20%3D%20%7B%0A%20%20%20%20%20%20%20%20%20%20%20%20%20%20%20%20base_layers%20%3A%20%7B%0A%20%20%20%20%20%20%20%20%20%20%20%20%20%20%20%20%20%20%20%20%22openstreetmap%22%20%3A%20tile_layer_35539fa9acc8411f8a4302aee7ca8b21%2C%0A%20%20%20%20%20%20%20%20%20%20%20%20%20%20%20%20%7D%2C%0A%20%20%20%20%20%20%20%20%20%20%20%20%20%20%20%20overlays%20%3A%20%20%7B%0A%20%20%20%20%20%20%20%20%20%20%20%20%20%20%20%20%20%20%20%20%22Google%20Maps%22%20%3A%20tile_layer_a19946855fa74e9e9127df05008cf6bf%2C%0A%20%20%20%20%20%20%20%20%20%20%20%20%20%20%20%20%7D%2C%0A%20%20%20%20%20%20%20%20%20%20%20%20%7D%3B%0A%20%20%20%20%20%20%20%20%20%20%20%20L.control.layers%28%0A%20%20%20%20%20%20%20%20%20%20%20%20%20%20%20%20layer_control_2040c535ead64aafacd9ed86061d83e6.base_layers%2C%0A%20%20%20%20%20%20%20%20%20%20%20%20%20%20%20%20layer_control_2040c535ead64aafacd9ed86061d83e6.overlays%2C%0A%20%20%20%20%20%20%20%20%20%20%20%20%20%20%20%20%7B%22autoZIndex%22%3A%20true%2C%20%22collapsed%22%3A%20true%2C%20%22position%22%3A%20%22topright%22%7D%0A%20%20%20%20%20%20%20%20%20%20%20%20%29.addTo%28map_ace55a9c2b01454ea06aecaa535d1d2c%29%3B%0A%20%20%20%20%20%20%20%20%0A%3C/script%3E onload=\"this.contentDocument.open();this.contentDocument.write(    decodeURIComponent(this.getAttribute('data-html')));this.contentDocument.close();\" allowfullscreen webkitallowfullscreen mozallowfullscreen></iframe></div></div>"
      ],
      "text/plain": [
       "<geemap.eefolium.Map at 0x7f93b6453d90>"
      ]
     },
     "metadata": {},
     "execution_count": 2
    }
   ],
   "metadata": {}
  },
  {
   "cell_type": "markdown",
   "source": [
    "With our basemap centered over Istanbul, we can now collect the DMSP-OLS radiance calibrated nighttime light data through the Google Earth Engine API. We'll obtain this data as an [ImageCollection](https://developers.google.com/earth-engine/guides/ic_creating). Each [Image](https://developers.google.com/earth-engine/guides/image_overview) is a representation of raster data, with the values for one or many spectral bands provided for a particular time range over an area.\n",
    "  \n",
    "The Image Collection ID for this data is `NOAA/DMSP-OLS/CALIBRATED_LIGHTS_V4` (for details, see the [GEE Catalog Page](https://developers.google.com/earth-engine/datasets/catalog/NOAA_DMSP-OLS_CALIBRATED_LIGHTS_V4?hl=en#bands)), and we can filter for a specific year to limit the amount of data once we bring it in. See the [NOAA page](https://ngdc.noaa.gov/eog/dmsp/download_radcal.html) for these data to identify which satellites (F12, F12-F15, F14-F15, F15, F16) provided which years (1996, 1999, 2000, 2002, 2004, 2005, 2010) for more information. We can take the 2010 data as an example, which was collected with the F16 satellite.  "
   ],
   "metadata": {}
  },
  {
   "cell_type": "code",
   "execution_count": 19,
   "source": [
    "# define ImageCollection id\n",
    "dmsp_rc_id = \"NOAA/DMSP-OLS/CALIBRATED_LIGHTS_V4\"\n",
    "\n",
    "# create an ee object for our 2010 image\n",
    "dmsp10 = ee.ImageCollection(dmsp_rc_id).filterDate('2010-01-01', '2010-12-31')\n",
    "# view ImageCollection contents\n",
    "dmsp10.getInfo()"
   ],
   "outputs": [
    {
     "output_type": "execute_result",
     "data": {
      "text/plain": [
       "{'type': 'ImageCollection',\n",
       " 'bands': [],\n",
       " 'id': 'NOAA/DMSP-OLS/CALIBRATED_LIGHTS_V4',\n",
       " 'version': 1599658494915631,\n",
       " 'properties': {'date_range': [826934400000, 1312070400000],\n",
       "  'period': 0,\n",
       "  'system:visualization_0_min': '3.0',\n",
       "  'type_name': 'ImageCollection',\n",
       "  'system:visualization_0_bands': 'avg_vis',\n",
       "  'system:is_global': 1,\n",
       "  'thumb': 'https://mw1.google.com/ges/dd/images/NIGHTTIME_thumb.png',\n",
       "  'description': '<p>The Defense Meteorological Program (DMSP) Operational Line-Scan System\\n(OLS) has a unique capability to detect visible and near-infrared (VNIR)\\nemission sources at night.</p><p>This collection contains global nighttime lights images with no sensor\\nsaturation. The sensor is typically operated at a high-gain setting to\\nenable the detection of moonlit clouds. However, with six bit quantization\\nand limited dynamic range, the recorded data are saturated in the bright\\ncores of urban centers. A limited set of observations at low lunar\\nillumination were obtained where the gain of the detector was set\\nsignificantly lower than its typical operational setting (sometimes by a\\nfactor of 100). Sparse data acquired at low-gain settings were combined\\nwith the operational data acquired at high-gain settings to produce the set\\nof global nighttime lights images with no sensor saturation. Data from\\ndifferent satellites were merged and blended into the final product in order\\nto gain maximum coverage. For more information, see this\\n<a href=\"https://eogdata.mines.edu/dmsp/radcal_readme.txt\">readme</a>\\nfile from the provider.</p><p><b>Resolution</b><br>30 arc seconds\\n</p><p><b>Bands</b><table class=\"eecat\"><tr><th scope=\"col\">Name</th><th scope=\"col\">Description</th></tr><tr><td>avg_vis</td><td><p>Average digital band numbers from observations with cloud-free light detection.</p></td></tr><tr><td>cf_cvg</td><td><p>Cloud-free coverages, the total number of observations that went into each 30-arc second grid cell. This image can be used to identify areas with low numbers of observations where the quality is reduced.</p></td></tr></table><p><sup>Image and data processing by NOAA&#39;s National Geophysical Data Center.\\nDMSP data collected by US Air Force Weather Agency.</sup><p><b>Terms of Use</b><br><p>NOAA data, information, and products, regardless of the method of delivery,\\nare not subject to copyright and carry no restrictions on their subsequent\\nuse by the public. Once obtained, they may be put to any lawful use. The\\nforgoing data is in the public domain and is being provided without\\nrestriction on use and distribution.</p><style>\\n  table.eecat {\\n  border: 1px solid black;\\n  border-collapse: collapse;\\n  font-size: 13px;\\n  }\\n  table.eecat td, tr, th {\\n  text-align: left; vertical-align: top;\\n  border: 1px solid gray; padding: 3px;\\n  }\\n  td.nobreak { white-space: nowrap; }\\n</style>',\n",
       "  'source_tags': ['eog', 'dmsp', 'ols', 'yearly'],\n",
       "  'visualization_0_max': '60.0',\n",
       "  'provider_url': 'https://eogdata.mines.edu/dmsp/download_radcal.html',\n",
       "  'title': 'DMSP OLS: Global Radiance-Calibrated Nighttime Lights Version 4, Defense Meteorological Program Operational Linescan System',\n",
       "  'sample': 'https://mw1.google.com/ges/dd/images/NIGHTTIME_sample.png',\n",
       "  'tags': ['eog',\n",
       "   'dmsp',\n",
       "   'ols',\n",
       "   'yearly',\n",
       "   'nighttime',\n",
       "   'visible',\n",
       "   'lights',\n",
       "   'imagery',\n",
       "   'calibrated',\n",
       "   'radiance'],\n",
       "  'system:visualization_0_max': '60.0',\n",
       "  'product_tags': ['nighttime',\n",
       "   'visible',\n",
       "   'lights',\n",
       "   'imagery',\n",
       "   'calibrated',\n",
       "   'radiance'],\n",
       "  'provider': 'Earth Observation Group, Payne Institute for Public Policy, Colorado School of Mines',\n",
       "  'visualization_0_min': '3.0',\n",
       "  'system:visualization_0_name': 'Nighttime Lights',\n",
       "  'visualization_0_name': 'Nighttime Lights',\n",
       "  'visualization_0_bands': 'avg_vis'},\n",
       " 'features': [{'type': 'Image',\n",
       "   'bands': [{'id': 'avg_vis',\n",
       "     'data_type': {'type': 'PixelType', 'precision': 'float'},\n",
       "     'dimensions': [43201, 16801],\n",
       "     'crs': 'EPSG:4326',\n",
       "     'crs_transform': [0.0083333333,\n",
       "      0,\n",
       "      -180.00416666665,\n",
       "      0,\n",
       "      -0.0083333333,\n",
       "      75.00416666665]},\n",
       "    {'id': 'cf_cvg',\n",
       "     'data_type': {'type': 'PixelType', 'precision': 'float'},\n",
       "     'dimensions': [43201, 16801],\n",
       "     'crs': 'EPSG:4326',\n",
       "     'crs_transform': [0.0083333333,\n",
       "      0,\n",
       "      -180.00416666665,\n",
       "      0,\n",
       "      -0.0083333333,\n",
       "      75.00416666665]}],\n",
       "   'version': 1494553196555000.0,\n",
       "   'id': 'NOAA/DMSP-OLS/CALIBRATED_LIGHTS_V4/F16_20100111-20101209_V4',\n",
       "   'properties': {'system:time_start': 1263168000000,\n",
       "    'system:footprint': {'type': 'LinearRing',\n",
       "     'coordinates': [[-180, -90],\n",
       "      [180, -90],\n",
       "      [180, 90],\n",
       "      [-180, 90],\n",
       "      [-180, -90]]},\n",
       "    'system:time_end': 1291852800000,\n",
       "    'system:asset_size': 192787721,\n",
       "    'system:index': 'F16_20100111-20101209_V4'}},\n",
       "  {'type': 'Image',\n",
       "   'bands': [{'id': 'avg_vis',\n",
       "     'data_type': {'type': 'PixelType', 'precision': 'float'},\n",
       "     'dimensions': [43201, 16801],\n",
       "     'crs': 'EPSG:4326',\n",
       "     'crs_transform': [0.0083333333,\n",
       "      0,\n",
       "      -180.00416666665,\n",
       "      0,\n",
       "      -0.0083333333,\n",
       "      75.00416666665]},\n",
       "    {'id': 'cf_cvg',\n",
       "     'data_type': {'type': 'PixelType', 'precision': 'float'},\n",
       "     'dimensions': [43201, 16801],\n",
       "     'crs': 'EPSG:4326',\n",
       "     'crs_transform': [0.0083333333,\n",
       "      0,\n",
       "      -180.00416666665,\n",
       "      0,\n",
       "      -0.0083333333,\n",
       "      75.00416666665]}],\n",
       "   'version': 1494390062383000.0,\n",
       "   'id': 'NOAA/DMSP-OLS/CALIBRATED_LIGHTS_V4/F16_20100111-20110731_V4',\n",
       "   'properties': {'system:time_start': 1263168000000,\n",
       "    'system:footprint': {'type': 'LinearRing',\n",
       "     'coordinates': [[-180, -90],\n",
       "      [180, -90],\n",
       "      [180, 90],\n",
       "      [-180, 90],\n",
       "      [-180, -90]]},\n",
       "    'system:time_end': 1312070400000,\n",
       "    'system:asset_size': 193381058,\n",
       "    'system:index': 'F16_20100111-20110731_V4'}}]}"
      ]
     },
     "metadata": {},
     "execution_count": 19
    }
   ],
   "metadata": {}
  },
  {
   "cell_type": "markdown",
   "source": [
    "Using `getInfo()`, we're able to see the contents of the ImageCollection, which can be helpful both in understanding what you're working with and in diagnosing any issues. The first chunk of information describes the ImageCollection as a whole, while further down under 'features', the individual Images and their respective bands are identified. For example, this range of data we selected contains two Images (IDs: NOAA/DMSP-OLS/CALIBRATED_LIGHTS_V4/F16_20100111-20101209_V4 and NOAA/DMSP-OLS/CALIBRATED_LIGHTS_V4/F16_20100111-20110731_V4), each with two bands: avg_vis and cf_cvg. This matches the 'Bands' listed in the [GEE Catalog listing](https://developers.google.com/earth-engine/datasets/catalog/NOAA_DMSP-OLS_CALIBRATED_LIGHTS_V4?hl=en#bands), so all indications are we are good to proceed.  \n",
    "  \n",
    "A next step can be to visualize these radiance-calibrated nighttime lights over our area of interest.  \n",
    "\n",
    "**NOTE:** While this code will allow you to obtain the correct, calibrated nighttime lights data in the ImageCollection `dmsp10_vis`, depending on the platform you're using to run this Python notebook, the visualization **may appear saturated** over the city. This is a limitation when combining some of the visualization tools with some programs for running Python code. If this happens with your image, you can [run the same script on Google Earth Engine's code editor](https://code.earthengine.google.com/a98628b5265dae71c984b800386ada9c), which will allow you to view the correct gradient of light."
   ],
   "metadata": {}
  },
  {
   "cell_type": "code",
   "execution_count": 146,
   "source": [
    "center_lon = 28.95\n",
    "center_lat = 41.03 \n",
    "zoomlevel = 10\n",
    "\n",
    "# create an ee object for our 2010 image\n",
    "dmsp10_vis = dmsp10.select('avg_vis')\n",
    "visrange = {\n",
    "  min: 0,\n",
    "  max: 600,\n",
    "  'palette': ['black','grey','white']\n",
    "}\n",
    "\n",
    "# initialize another map add this image as a layer to our map object\n",
    "# and call the layer: \"DMSP Radiance Calibrated 2010\"\n",
    "IstMap2 = geemap.eefolium.Map(center=[center_lat,center_lon], zoom=zoomlevel)\n",
    "IstMap2.addLayer(dmsp10_vis, vis_params=visrange, name='DMSP Radiance Calibrated 2010')\n",
    "\n",
    "IstMap2.addLayerControl()\n",
    "IstMap2\n"
   ],
   "outputs": [
    {
     "output_type": "execute_result",
     "data": {
      "text/html": [
       "<div style=\"width:100%;\"><div style=\"position:relative;width:100%;height:0;padding-bottom:60%;\"><span style=\"color:#565656\">Make this Notebook Trusted to load map: File -> Trust Notebook</span><iframe src=\"about:blank\" style=\"position:absolute;width:100%;height:100%;left:0;top:0;border:none !important;\" data-html=%3C%21DOCTYPE%20html%3E%0A%3Chead%3E%20%20%20%20%0A%20%20%20%20%3Cmeta%20http-equiv%3D%22content-type%22%20content%3D%22text/html%3B%20charset%3DUTF-8%22%20/%3E%0A%20%20%20%20%0A%20%20%20%20%20%20%20%20%3Cscript%3E%0A%20%20%20%20%20%20%20%20%20%20%20%20L_NO_TOUCH%20%3D%20false%3B%0A%20%20%20%20%20%20%20%20%20%20%20%20L_DISABLE_3D%20%3D%20false%3B%0A%20%20%20%20%20%20%20%20%3C/script%3E%0A%20%20%20%20%0A%20%20%20%20%3Cstyle%3Ehtml%2C%20body%20%7Bwidth%3A%20100%25%3Bheight%3A%20100%25%3Bmargin%3A%200%3Bpadding%3A%200%3B%7D%3C/style%3E%0A%20%20%20%20%3Cstyle%3E%23map%20%7Bposition%3Aabsolute%3Btop%3A0%3Bbottom%3A0%3Bright%3A0%3Bleft%3A0%3B%7D%3C/style%3E%0A%20%20%20%20%3Cscript%20src%3D%22https%3A//cdn.jsdelivr.net/npm/leaflet%401.6.0/dist/leaflet.js%22%3E%3C/script%3E%0A%20%20%20%20%3Cscript%20src%3D%22https%3A//code.jquery.com/jquery-1.12.4.min.js%22%3E%3C/script%3E%0A%20%20%20%20%3Cscript%20src%3D%22https%3A//maxcdn.bootstrapcdn.com/bootstrap/3.2.0/js/bootstrap.min.js%22%3E%3C/script%3E%0A%20%20%20%20%3Cscript%20src%3D%22https%3A//cdnjs.cloudflare.com/ajax/libs/Leaflet.awesome-markers/2.0.2/leaflet.awesome-markers.js%22%3E%3C/script%3E%0A%20%20%20%20%3Clink%20rel%3D%22stylesheet%22%20href%3D%22https%3A//cdn.jsdelivr.net/npm/leaflet%401.6.0/dist/leaflet.css%22/%3E%0A%20%20%20%20%3Clink%20rel%3D%22stylesheet%22%20href%3D%22https%3A//maxcdn.bootstrapcdn.com/bootstrap/3.2.0/css/bootstrap.min.css%22/%3E%0A%20%20%20%20%3Clink%20rel%3D%22stylesheet%22%20href%3D%22https%3A//maxcdn.bootstrapcdn.com/bootstrap/3.2.0/css/bootstrap-theme.min.css%22/%3E%0A%20%20%20%20%3Clink%20rel%3D%22stylesheet%22%20href%3D%22https%3A//maxcdn.bootstrapcdn.com/font-awesome/4.6.3/css/font-awesome.min.css%22/%3E%0A%20%20%20%20%3Clink%20rel%3D%22stylesheet%22%20href%3D%22https%3A//cdnjs.cloudflare.com/ajax/libs/Leaflet.awesome-markers/2.0.2/leaflet.awesome-markers.css%22/%3E%0A%20%20%20%20%3Clink%20rel%3D%22stylesheet%22%20href%3D%22https%3A//cdn.jsdelivr.net/gh/python-visualization/folium/folium/templates/leaflet.awesome.rotate.min.css%22/%3E%0A%20%20%20%20%0A%20%20%20%20%20%20%20%20%20%20%20%20%3Cmeta%20name%3D%22viewport%22%20content%3D%22width%3Ddevice-width%2C%0A%20%20%20%20%20%20%20%20%20%20%20%20%20%20%20%20initial-scale%3D1.0%2C%20maximum-scale%3D1.0%2C%20user-scalable%3Dno%22%20/%3E%0A%20%20%20%20%20%20%20%20%20%20%20%20%3Cstyle%3E%0A%20%20%20%20%20%20%20%20%20%20%20%20%20%20%20%20%23map_455dbe9ed13848d1a70d42bc878a7bce%20%7B%0A%20%20%20%20%20%20%20%20%20%20%20%20%20%20%20%20%20%20%20%20position%3A%20relative%3B%0A%20%20%20%20%20%20%20%20%20%20%20%20%20%20%20%20%20%20%20%20width%3A%20100.0%25%3B%0A%20%20%20%20%20%20%20%20%20%20%20%20%20%20%20%20%20%20%20%20height%3A%20100.0%25%3B%0A%20%20%20%20%20%20%20%20%20%20%20%20%20%20%20%20%20%20%20%20left%3A%200.0%25%3B%0A%20%20%20%20%20%20%20%20%20%20%20%20%20%20%20%20%20%20%20%20top%3A%200.0%25%3B%0A%20%20%20%20%20%20%20%20%20%20%20%20%20%20%20%20%7D%0A%20%20%20%20%20%20%20%20%20%20%20%20%3C/style%3E%0A%20%20%20%20%20%20%20%20%0A%20%20%20%20%3Cscript%20src%3D%22https%3A//cdnjs.cloudflare.com/ajax/libs/leaflet.fullscreen/1.4.2/Control.FullScreen.min.js%22%3E%3C/script%3E%0A%20%20%20%20%3Clink%20rel%3D%22stylesheet%22%20href%3D%22https%3A//cdnjs.cloudflare.com/ajax/libs/leaflet.fullscreen/1.4.2/Control.FullScreen.min.css%22/%3E%0A%3C/head%3E%0A%3Cbody%3E%20%20%20%20%0A%20%20%20%20%0A%20%20%20%20%20%20%20%20%20%20%20%20%3Cdiv%20class%3D%22folium-map%22%20id%3D%22map_455dbe9ed13848d1a70d42bc878a7bce%22%20%3E%3C/div%3E%0A%20%20%20%20%20%20%20%20%0A%3C/body%3E%0A%3Cscript%3E%20%20%20%20%0A%20%20%20%20%0A%20%20%20%20%20%20%20%20%20%20%20%20var%20map_455dbe9ed13848d1a70d42bc878a7bce%20%3D%20L.map%28%0A%20%20%20%20%20%20%20%20%20%20%20%20%20%20%20%20%22map_455dbe9ed13848d1a70d42bc878a7bce%22%2C%0A%20%20%20%20%20%20%20%20%20%20%20%20%20%20%20%20%7B%0A%20%20%20%20%20%20%20%20%20%20%20%20%20%20%20%20%20%20%20%20center%3A%20%5B41.03%2C%2028.95%5D%2C%0A%20%20%20%20%20%20%20%20%20%20%20%20%20%20%20%20%20%20%20%20crs%3A%20L.CRS.EPSG3857%2C%0A%20%20%20%20%20%20%20%20%20%20%20%20%20%20%20%20%20%20%20%20zoom%3A%2010%2C%0A%20%20%20%20%20%20%20%20%20%20%20%20%20%20%20%20%20%20%20%20zoomControl%3A%20true%2C%0A%20%20%20%20%20%20%20%20%20%20%20%20%20%20%20%20%20%20%20%20preferCanvas%3A%20false%2C%0A%20%20%20%20%20%20%20%20%20%20%20%20%20%20%20%20%20%20%20%20eeInitialize%3A%20true%2C%0A%20%20%20%20%20%20%20%20%20%20%20%20%20%20%20%20%20%20%20%20addGoogleMap%3A%20true%2C%0A%20%20%20%20%20%20%20%20%20%20%20%20%20%20%20%20%20%20%20%20pluginLatlngpopup%3A%20true%2C%0A%20%20%20%20%20%20%20%20%20%20%20%20%20%20%20%20%20%20%20%20pluginFullscreen%3A%20true%2C%0A%20%20%20%20%20%20%20%20%20%20%20%20%20%20%20%20%20%20%20%20pluginDraw%3A%20false%2C%0A%20%20%20%20%20%20%20%20%20%20%20%20%20%20%20%20%20%20%20%20DrawExport%3A%20true%2C%0A%20%20%20%20%20%20%20%20%20%20%20%20%20%20%20%20%20%20%20%20pluginMinimap%3A%20false%2C%0A%20%20%20%20%20%20%20%20%20%20%20%20%20%20%20%20%20%20%20%20pluginLayercontrol%3A%20false%2C%0A%20%20%20%20%20%20%20%20%20%20%20%20%20%20%20%20%7D%0A%20%20%20%20%20%20%20%20%20%20%20%20%29%3B%0A%0A%20%20%20%20%20%20%20%20%20%20%20%20%0A%0A%20%20%20%20%20%20%20%20%0A%20%20%20%20%0A%20%20%20%20%20%20%20%20%20%20%20%20var%20tile_layer_9dbc6345933d49b9bceef85384403dfc%20%3D%20L.tileLayer%28%0A%20%20%20%20%20%20%20%20%20%20%20%20%20%20%20%20%22https%3A//%7Bs%7D.tile.openstreetmap.org/%7Bz%7D/%7Bx%7D/%7By%7D.png%22%2C%0A%20%20%20%20%20%20%20%20%20%20%20%20%20%20%20%20%7B%22attribution%22%3A%20%22Data%20by%20%5Cu0026copy%3B%20%5Cu003ca%20href%3D%5C%22http%3A//openstreetmap.org%5C%22%5Cu003eOpenStreetMap%5Cu003c/a%5Cu003e%2C%20under%20%5Cu003ca%20href%3D%5C%22http%3A//www.openstreetmap.org/copyright%5C%22%5Cu003eODbL%5Cu003c/a%5Cu003e.%22%2C%20%22detectRetina%22%3A%20false%2C%20%22maxNativeZoom%22%3A%2018%2C%20%22maxZoom%22%3A%2018%2C%20%22minZoom%22%3A%200%2C%20%22noWrap%22%3A%20false%2C%20%22opacity%22%3A%201%2C%20%22subdomains%22%3A%20%22abc%22%2C%20%22tms%22%3A%20false%7D%0A%20%20%20%20%20%20%20%20%20%20%20%20%29.addTo%28map_455dbe9ed13848d1a70d42bc878a7bce%29%3B%0A%20%20%20%20%20%20%20%20%0A%20%20%20%20%0A%20%20%20%20%20%20%20%20%20%20%20%20var%20tile_layer_a19946855fa74e9e9127df05008cf6bf%20%3D%20L.tileLayer%28%0A%20%20%20%20%20%20%20%20%20%20%20%20%20%20%20%20%22https%3A//mt1.google.com/vt/lyrs%3Dm%5Cu0026x%3D%7Bx%7D%5Cu0026y%3D%7By%7D%5Cu0026z%3D%7Bz%7D%22%2C%0A%20%20%20%20%20%20%20%20%20%20%20%20%20%20%20%20%7B%22attribution%22%3A%20%22Google%22%2C%20%22detectRetina%22%3A%20false%2C%20%22maxNativeZoom%22%3A%2018%2C%20%22maxZoom%22%3A%2018%2C%20%22minZoom%22%3A%200%2C%20%22noWrap%22%3A%20false%2C%20%22opacity%22%3A%201%2C%20%22subdomains%22%3A%20%22abc%22%2C%20%22tms%22%3A%20false%7D%0A%20%20%20%20%20%20%20%20%20%20%20%20%29.addTo%28map_455dbe9ed13848d1a70d42bc878a7bce%29%3B%0A%20%20%20%20%20%20%20%20%0A%20%20%20%20%0A%20%20%20%20%20%20%20%20%20%20%20%20%20%20%20%20var%20lat_lng_popup_03886bb4fea14a74aa2e0418acfac5e5%20%3D%20L.popup%28%29%3B%0A%20%20%20%20%20%20%20%20%20%20%20%20%20%20%20%20function%20latLngPop%28e%29%20%7B%0A%20%20%20%20%20%20%20%20%20%20%20%20%20%20%20%20%20%20%20%20lat_lng_popup_03886bb4fea14a74aa2e0418acfac5e5%0A%20%20%20%20%20%20%20%20%20%20%20%20%20%20%20%20%20%20%20%20%20%20%20%20.setLatLng%28e.latlng%29%0A%20%20%20%20%20%20%20%20%20%20%20%20%20%20%20%20%20%20%20%20%20%20%20%20.setContent%28%22Latitude%3A%20%22%20%2B%20e.latlng.lat.toFixed%284%29%20%2B%0A%20%20%20%20%20%20%20%20%20%20%20%20%20%20%20%20%20%20%20%20%20%20%20%20%20%20%20%20%20%20%20%20%20%20%20%20%22%3Cbr%3ELongitude%3A%20%22%20%2B%20e.latlng.lng.toFixed%284%29%29%0A%20%20%20%20%20%20%20%20%20%20%20%20%20%20%20%20%20%20%20%20%20%20%20%20.openOn%28map_455dbe9ed13848d1a70d42bc878a7bce%29%3B%0A%20%20%20%20%20%20%20%20%20%20%20%20%20%20%20%20%20%20%20%20%7D%0A%20%20%20%20%20%20%20%20%20%20%20%20%20%20%20%20map_455dbe9ed13848d1a70d42bc878a7bce.on%28%27click%27%2C%20latLngPop%29%3B%0A%20%20%20%20%20%20%20%20%20%20%20%20%0A%20%20%20%20%0A%20%20%20%20%20%20%20%20%20%20%20%20L.control.fullscreen%28%0A%20%20%20%20%20%20%20%20%20%20%20%20%20%20%20%20%7B%22forceSeparateButton%22%3A%20false%2C%20%22position%22%3A%20%22topleft%22%2C%20%22title%22%3A%20%22Full%20Screen%22%2C%20%22titleCancel%22%3A%20%22Exit%20Full%20Screen%22%7D%0A%20%20%20%20%20%20%20%20%20%20%20%20%29.addTo%28map_455dbe9ed13848d1a70d42bc878a7bce%29%3B%0A%20%20%20%20%20%20%20%20%0A%20%20%20%20%0A%20%20%20%20%20%20%20%20%20%20%20%20map_455dbe9ed13848d1a70d42bc878a7bce.fitBounds%28%0A%20%20%20%20%20%20%20%20%20%20%20%20%20%20%20%20%5B%5B41.03%2C%2028.95%5D%2C%20%5B41.03%2C%2028.95%5D%5D%2C%0A%20%20%20%20%20%20%20%20%20%20%20%20%20%20%20%20%7B%22maxZoom%22%3A%2010%7D%0A%20%20%20%20%20%20%20%20%20%20%20%20%29%3B%0A%20%20%20%20%20%20%20%20%0A%20%20%20%20%0A%20%20%20%20%20%20%20%20%20%20%20%20var%20tile_layer_1c0404d15dba45bdafa3c8efde5434ea%20%3D%20L.tileLayer%28%0A%20%20%20%20%20%20%20%20%20%20%20%20%20%20%20%20%22https%3A//earthengine.googleapis.com/v1alpha/projects/earthengine-legacy/maps/2b134b512ad55d7bc8e66873c99ded42-c92b6f4ce3b168ec4f0142fdee38f547/tiles/%7Bz%7D/%7Bx%7D/%7By%7D%22%2C%0A%20%20%20%20%20%20%20%20%20%20%20%20%20%20%20%20%7B%22attribution%22%3A%20%22Google%20Earth%20Engine%22%2C%20%22detectRetina%22%3A%20false%2C%20%22maxNativeZoom%22%3A%2018%2C%20%22maxZoom%22%3A%2018%2C%20%22minZoom%22%3A%200%2C%20%22noWrap%22%3A%20false%2C%20%22opacity%22%3A%201.0%2C%20%22subdomains%22%3A%20%22abc%22%2C%20%22tms%22%3A%20false%7D%0A%20%20%20%20%20%20%20%20%20%20%20%20%29.addTo%28map_455dbe9ed13848d1a70d42bc878a7bce%29%3B%0A%20%20%20%20%20%20%20%20%0A%20%20%20%20%0A%20%20%20%20%20%20%20%20%20%20%20%20var%20layer_control_57f550ff563d4478bb5cf67aa8ad23e4%20%3D%20%7B%0A%20%20%20%20%20%20%20%20%20%20%20%20%20%20%20%20base_layers%20%3A%20%7B%0A%20%20%20%20%20%20%20%20%20%20%20%20%20%20%20%20%20%20%20%20%22openstreetmap%22%20%3A%20tile_layer_9dbc6345933d49b9bceef85384403dfc%2C%0A%20%20%20%20%20%20%20%20%20%20%20%20%20%20%20%20%7D%2C%0A%20%20%20%20%20%20%20%20%20%20%20%20%20%20%20%20overlays%20%3A%20%20%7B%0A%20%20%20%20%20%20%20%20%20%20%20%20%20%20%20%20%20%20%20%20%22Google%20Maps%22%20%3A%20tile_layer_a19946855fa74e9e9127df05008cf6bf%2C%0A%20%20%20%20%20%20%20%20%20%20%20%20%20%20%20%20%20%20%20%20%22DMSP%20Radiance%20Calibrated%202010%22%20%3A%20tile_layer_1c0404d15dba45bdafa3c8efde5434ea%2C%0A%20%20%20%20%20%20%20%20%20%20%20%20%20%20%20%20%7D%2C%0A%20%20%20%20%20%20%20%20%20%20%20%20%7D%3B%0A%20%20%20%20%20%20%20%20%20%20%20%20L.control.layers%28%0A%20%20%20%20%20%20%20%20%20%20%20%20%20%20%20%20layer_control_57f550ff563d4478bb5cf67aa8ad23e4.base_layers%2C%0A%20%20%20%20%20%20%20%20%20%20%20%20%20%20%20%20layer_control_57f550ff563d4478bb5cf67aa8ad23e4.overlays%2C%0A%20%20%20%20%20%20%20%20%20%20%20%20%20%20%20%20%7B%22autoZIndex%22%3A%20true%2C%20%22collapsed%22%3A%20true%2C%20%22position%22%3A%20%22topright%22%7D%0A%20%20%20%20%20%20%20%20%20%20%20%20%29.addTo%28map_455dbe9ed13848d1a70d42bc878a7bce%29%3B%0A%20%20%20%20%20%20%20%20%0A%3C/script%3E onload=\"this.contentDocument.open();this.contentDocument.write(    decodeURIComponent(this.getAttribute('data-html')));this.contentDocument.close();\" allowfullscreen webkitallowfullscreen mozallowfullscreen></iframe></div></div>"
      ],
      "text/plain": [
       "<geemap.eefolium.Map at 0x7f93ac2e6550>"
      ]
     },
     "metadata": {},
     "execution_count": 146
    }
   ],
   "metadata": {}
  },
  {
   "cell_type": "markdown",
   "source": [
    "We can also use a defined boundary map of Istanbul to build our map and apply the Radiance Calibrated Nighttime Light data, which will allow us to filter the light data for our area of interest rather than using the data for the entire world. This can improve performance by limiting the amount of data being processed. We'll use the [Global Administrative Unit Layers (GAUL)](https://data.apps.fao.org/map/catalog/srv/eng/catalog.search#/metadata/9c35ba10-5649-41c8-bdfc-eb78e9e65654) data, which provides geographic information on multiple levels of administrative areas for most countries worldwide. We can access this data through the Google Earth Engine as well (see GEE documentation [here](https://developers.google.com/earth-engine/datasets/catalog/FAO_GAUL_2015_level1)). The feature collection identification we need is `FAO/GAUL/2015/level1`, and we'll filter for `ADM1_NAME` of Istanbul. (For more information on the countries and administrative levels provided by GAUL 2015, download the GAUL2015_Documentation.zip from the [GAUL Catalog Page](https://data.apps.fao.org/map/catalog/srv/eng/catalog.search#/metadata/9c35ba10-5649-41c8-bdfc-eb78e9e65654). _WhatsNewGAUL2015.pdf_ contains a table of all countries identifying which countries and administrative levels are available.)"
   ],
   "metadata": {}
  },
  {
   "cell_type": "code",
   "execution_count": 148,
   "source": [
    "# extract the Istanbul administrative area boundaries\n",
    "ist_geom = ee.Feature(ee.FeatureCollection(\"FAO/GAUL/2015/level1\").filter(ee.Filter.eq('ADM1_NAME', 'Istanbul')).first()).geometry()\n",
    "\n",
    "zoomlevel = 9\n",
    "# map the Istanbul administrative boundaries to confirm \n",
    "IstMap3 = geemap.eefolium.Map(center=[center_lat,center_lon], zoom=zoomlevel)\n",
    "IstMap3.addLayer(ist_geom, {}, \"Istanbul Administrative Area\")\n",
    "IstMap3"
   ],
   "outputs": [
    {
     "output_type": "execute_result",
     "data": {
      "text/html": [
       "<div style=\"width:100%;\"><div style=\"position:relative;width:100%;height:0;padding-bottom:60%;\"><span style=\"color:#565656\">Make this Notebook Trusted to load map: File -> Trust Notebook</span><iframe src=\"about:blank\" style=\"position:absolute;width:100%;height:100%;left:0;top:0;border:none !important;\" data-html=%3C%21DOCTYPE%20html%3E%0A%3Chead%3E%20%20%20%20%0A%20%20%20%20%3Cmeta%20http-equiv%3D%22content-type%22%20content%3D%22text/html%3B%20charset%3DUTF-8%22%20/%3E%0A%20%20%20%20%0A%20%20%20%20%20%20%20%20%3Cscript%3E%0A%20%20%20%20%20%20%20%20%20%20%20%20L_NO_TOUCH%20%3D%20false%3B%0A%20%20%20%20%20%20%20%20%20%20%20%20L_DISABLE_3D%20%3D%20false%3B%0A%20%20%20%20%20%20%20%20%3C/script%3E%0A%20%20%20%20%0A%20%20%20%20%3Cstyle%3Ehtml%2C%20body%20%7Bwidth%3A%20100%25%3Bheight%3A%20100%25%3Bmargin%3A%200%3Bpadding%3A%200%3B%7D%3C/style%3E%0A%20%20%20%20%3Cstyle%3E%23map%20%7Bposition%3Aabsolute%3Btop%3A0%3Bbottom%3A0%3Bright%3A0%3Bleft%3A0%3B%7D%3C/style%3E%0A%20%20%20%20%3Cscript%20src%3D%22https%3A//cdn.jsdelivr.net/npm/leaflet%401.6.0/dist/leaflet.js%22%3E%3C/script%3E%0A%20%20%20%20%3Cscript%20src%3D%22https%3A//code.jquery.com/jquery-1.12.4.min.js%22%3E%3C/script%3E%0A%20%20%20%20%3Cscript%20src%3D%22https%3A//maxcdn.bootstrapcdn.com/bootstrap/3.2.0/js/bootstrap.min.js%22%3E%3C/script%3E%0A%20%20%20%20%3Cscript%20src%3D%22https%3A//cdnjs.cloudflare.com/ajax/libs/Leaflet.awesome-markers/2.0.2/leaflet.awesome-markers.js%22%3E%3C/script%3E%0A%20%20%20%20%3Clink%20rel%3D%22stylesheet%22%20href%3D%22https%3A//cdn.jsdelivr.net/npm/leaflet%401.6.0/dist/leaflet.css%22/%3E%0A%20%20%20%20%3Clink%20rel%3D%22stylesheet%22%20href%3D%22https%3A//maxcdn.bootstrapcdn.com/bootstrap/3.2.0/css/bootstrap.min.css%22/%3E%0A%20%20%20%20%3Clink%20rel%3D%22stylesheet%22%20href%3D%22https%3A//maxcdn.bootstrapcdn.com/bootstrap/3.2.0/css/bootstrap-theme.min.css%22/%3E%0A%20%20%20%20%3Clink%20rel%3D%22stylesheet%22%20href%3D%22https%3A//maxcdn.bootstrapcdn.com/font-awesome/4.6.3/css/font-awesome.min.css%22/%3E%0A%20%20%20%20%3Clink%20rel%3D%22stylesheet%22%20href%3D%22https%3A//cdnjs.cloudflare.com/ajax/libs/Leaflet.awesome-markers/2.0.2/leaflet.awesome-markers.css%22/%3E%0A%20%20%20%20%3Clink%20rel%3D%22stylesheet%22%20href%3D%22https%3A//cdn.jsdelivr.net/gh/python-visualization/folium/folium/templates/leaflet.awesome.rotate.min.css%22/%3E%0A%20%20%20%20%0A%20%20%20%20%20%20%20%20%20%20%20%20%3Cmeta%20name%3D%22viewport%22%20content%3D%22width%3Ddevice-width%2C%0A%20%20%20%20%20%20%20%20%20%20%20%20%20%20%20%20initial-scale%3D1.0%2C%20maximum-scale%3D1.0%2C%20user-scalable%3Dno%22%20/%3E%0A%20%20%20%20%20%20%20%20%20%20%20%20%3Cstyle%3E%0A%20%20%20%20%20%20%20%20%20%20%20%20%20%20%20%20%23map_be634a1b1a1a49c5b8068affa2bbcbbb%20%7B%0A%20%20%20%20%20%20%20%20%20%20%20%20%20%20%20%20%20%20%20%20position%3A%20relative%3B%0A%20%20%20%20%20%20%20%20%20%20%20%20%20%20%20%20%20%20%20%20width%3A%20100.0%25%3B%0A%20%20%20%20%20%20%20%20%20%20%20%20%20%20%20%20%20%20%20%20height%3A%20100.0%25%3B%0A%20%20%20%20%20%20%20%20%20%20%20%20%20%20%20%20%20%20%20%20left%3A%200.0%25%3B%0A%20%20%20%20%20%20%20%20%20%20%20%20%20%20%20%20%20%20%20%20top%3A%200.0%25%3B%0A%20%20%20%20%20%20%20%20%20%20%20%20%20%20%20%20%7D%0A%20%20%20%20%20%20%20%20%20%20%20%20%3C/style%3E%0A%20%20%20%20%20%20%20%20%0A%20%20%20%20%3Cscript%20src%3D%22https%3A//cdnjs.cloudflare.com/ajax/libs/leaflet.fullscreen/1.4.2/Control.FullScreen.min.js%22%3E%3C/script%3E%0A%20%20%20%20%3Clink%20rel%3D%22stylesheet%22%20href%3D%22https%3A//cdnjs.cloudflare.com/ajax/libs/leaflet.fullscreen/1.4.2/Control.FullScreen.min.css%22/%3E%0A%3C/head%3E%0A%3Cbody%3E%20%20%20%20%0A%20%20%20%20%0A%20%20%20%20%20%20%20%20%20%20%20%20%3Cdiv%20class%3D%22folium-map%22%20id%3D%22map_be634a1b1a1a49c5b8068affa2bbcbbb%22%20%3E%3C/div%3E%0A%20%20%20%20%20%20%20%20%0A%3C/body%3E%0A%3Cscript%3E%20%20%20%20%0A%20%20%20%20%0A%20%20%20%20%20%20%20%20%20%20%20%20var%20map_be634a1b1a1a49c5b8068affa2bbcbbb%20%3D%20L.map%28%0A%20%20%20%20%20%20%20%20%20%20%20%20%20%20%20%20%22map_be634a1b1a1a49c5b8068affa2bbcbbb%22%2C%0A%20%20%20%20%20%20%20%20%20%20%20%20%20%20%20%20%7B%0A%20%20%20%20%20%20%20%20%20%20%20%20%20%20%20%20%20%20%20%20center%3A%20%5B41.03%2C%2028.95%5D%2C%0A%20%20%20%20%20%20%20%20%20%20%20%20%20%20%20%20%20%20%20%20crs%3A%20L.CRS.EPSG3857%2C%0A%20%20%20%20%20%20%20%20%20%20%20%20%20%20%20%20%20%20%20%20zoom%3A%209%2C%0A%20%20%20%20%20%20%20%20%20%20%20%20%20%20%20%20%20%20%20%20zoomControl%3A%20true%2C%0A%20%20%20%20%20%20%20%20%20%20%20%20%20%20%20%20%20%20%20%20preferCanvas%3A%20false%2C%0A%20%20%20%20%20%20%20%20%20%20%20%20%20%20%20%20%20%20%20%20eeInitialize%3A%20true%2C%0A%20%20%20%20%20%20%20%20%20%20%20%20%20%20%20%20%20%20%20%20addGoogleMap%3A%20true%2C%0A%20%20%20%20%20%20%20%20%20%20%20%20%20%20%20%20%20%20%20%20pluginLatlngpopup%3A%20true%2C%0A%20%20%20%20%20%20%20%20%20%20%20%20%20%20%20%20%20%20%20%20pluginFullscreen%3A%20true%2C%0A%20%20%20%20%20%20%20%20%20%20%20%20%20%20%20%20%20%20%20%20pluginDraw%3A%20false%2C%0A%20%20%20%20%20%20%20%20%20%20%20%20%20%20%20%20%20%20%20%20DrawExport%3A%20true%2C%0A%20%20%20%20%20%20%20%20%20%20%20%20%20%20%20%20%20%20%20%20pluginMinimap%3A%20false%2C%0A%20%20%20%20%20%20%20%20%20%20%20%20%20%20%20%20%20%20%20%20pluginLayercontrol%3A%20false%2C%0A%20%20%20%20%20%20%20%20%20%20%20%20%20%20%20%20%7D%0A%20%20%20%20%20%20%20%20%20%20%20%20%29%3B%0A%0A%20%20%20%20%20%20%20%20%20%20%20%20%0A%0A%20%20%20%20%20%20%20%20%0A%20%20%20%20%0A%20%20%20%20%20%20%20%20%20%20%20%20var%20tile_layer_ce1b74c1198243b9a1eb7cf047709234%20%3D%20L.tileLayer%28%0A%20%20%20%20%20%20%20%20%20%20%20%20%20%20%20%20%22https%3A//%7Bs%7D.tile.openstreetmap.org/%7Bz%7D/%7Bx%7D/%7By%7D.png%22%2C%0A%20%20%20%20%20%20%20%20%20%20%20%20%20%20%20%20%7B%22attribution%22%3A%20%22Data%20by%20%5Cu0026copy%3B%20%5Cu003ca%20href%3D%5C%22http%3A//openstreetmap.org%5C%22%5Cu003eOpenStreetMap%5Cu003c/a%5Cu003e%2C%20under%20%5Cu003ca%20href%3D%5C%22http%3A//www.openstreetmap.org/copyright%5C%22%5Cu003eODbL%5Cu003c/a%5Cu003e.%22%2C%20%22detectRetina%22%3A%20false%2C%20%22maxNativeZoom%22%3A%2018%2C%20%22maxZoom%22%3A%2018%2C%20%22minZoom%22%3A%200%2C%20%22noWrap%22%3A%20false%2C%20%22opacity%22%3A%201%2C%20%22subdomains%22%3A%20%22abc%22%2C%20%22tms%22%3A%20false%7D%0A%20%20%20%20%20%20%20%20%20%20%20%20%29.addTo%28map_be634a1b1a1a49c5b8068affa2bbcbbb%29%3B%0A%20%20%20%20%20%20%20%20%0A%20%20%20%20%0A%20%20%20%20%20%20%20%20%20%20%20%20var%20tile_layer_a19946855fa74e9e9127df05008cf6bf%20%3D%20L.tileLayer%28%0A%20%20%20%20%20%20%20%20%20%20%20%20%20%20%20%20%22https%3A//mt1.google.com/vt/lyrs%3Dm%5Cu0026x%3D%7Bx%7D%5Cu0026y%3D%7By%7D%5Cu0026z%3D%7Bz%7D%22%2C%0A%20%20%20%20%20%20%20%20%20%20%20%20%20%20%20%20%7B%22attribution%22%3A%20%22Google%22%2C%20%22detectRetina%22%3A%20false%2C%20%22maxNativeZoom%22%3A%2018%2C%20%22maxZoom%22%3A%2018%2C%20%22minZoom%22%3A%200%2C%20%22noWrap%22%3A%20false%2C%20%22opacity%22%3A%201%2C%20%22subdomains%22%3A%20%22abc%22%2C%20%22tms%22%3A%20false%7D%0A%20%20%20%20%20%20%20%20%20%20%20%20%29.addTo%28map_be634a1b1a1a49c5b8068affa2bbcbbb%29%3B%0A%20%20%20%20%20%20%20%20%0A%20%20%20%20%0A%20%20%20%20%20%20%20%20%20%20%20%20%20%20%20%20var%20lat_lng_popup_e01700bad9a343dfb6c9f5ff490dc13c%20%3D%20L.popup%28%29%3B%0A%20%20%20%20%20%20%20%20%20%20%20%20%20%20%20%20function%20latLngPop%28e%29%20%7B%0A%20%20%20%20%20%20%20%20%20%20%20%20%20%20%20%20%20%20%20%20lat_lng_popup_e01700bad9a343dfb6c9f5ff490dc13c%0A%20%20%20%20%20%20%20%20%20%20%20%20%20%20%20%20%20%20%20%20%20%20%20%20.setLatLng%28e.latlng%29%0A%20%20%20%20%20%20%20%20%20%20%20%20%20%20%20%20%20%20%20%20%20%20%20%20.setContent%28%22Latitude%3A%20%22%20%2B%20e.latlng.lat.toFixed%284%29%20%2B%0A%20%20%20%20%20%20%20%20%20%20%20%20%20%20%20%20%20%20%20%20%20%20%20%20%20%20%20%20%20%20%20%20%20%20%20%20%22%3Cbr%3ELongitude%3A%20%22%20%2B%20e.latlng.lng.toFixed%284%29%29%0A%20%20%20%20%20%20%20%20%20%20%20%20%20%20%20%20%20%20%20%20%20%20%20%20.openOn%28map_be634a1b1a1a49c5b8068affa2bbcbbb%29%3B%0A%20%20%20%20%20%20%20%20%20%20%20%20%20%20%20%20%20%20%20%20%7D%0A%20%20%20%20%20%20%20%20%20%20%20%20%20%20%20%20map_be634a1b1a1a49c5b8068affa2bbcbbb.on%28%27click%27%2C%20latLngPop%29%3B%0A%20%20%20%20%20%20%20%20%20%20%20%20%0A%20%20%20%20%0A%20%20%20%20%20%20%20%20%20%20%20%20L.control.fullscreen%28%0A%20%20%20%20%20%20%20%20%20%20%20%20%20%20%20%20%7B%22forceSeparateButton%22%3A%20false%2C%20%22position%22%3A%20%22topleft%22%2C%20%22title%22%3A%20%22Full%20Screen%22%2C%20%22titleCancel%22%3A%20%22Exit%20Full%20Screen%22%7D%0A%20%20%20%20%20%20%20%20%20%20%20%20%29.addTo%28map_be634a1b1a1a49c5b8068affa2bbcbbb%29%3B%0A%20%20%20%20%20%20%20%20%0A%20%20%20%20%0A%20%20%20%20%20%20%20%20%20%20%20%20map_be634a1b1a1a49c5b8068affa2bbcbbb.fitBounds%28%0A%20%20%20%20%20%20%20%20%20%20%20%20%20%20%20%20%5B%5B41.03%2C%2028.95%5D%2C%20%5B41.03%2C%2028.95%5D%5D%2C%0A%20%20%20%20%20%20%20%20%20%20%20%20%20%20%20%20%7B%22maxZoom%22%3A%209%7D%0A%20%20%20%20%20%20%20%20%20%20%20%20%29%3B%0A%20%20%20%20%20%20%20%20%0A%20%20%20%20%0A%20%20%20%20%20%20%20%20%20%20%20%20var%20tile_layer_c52b19a5407a4a6db551e530bc77e8ea%20%3D%20L.tileLayer%28%0A%20%20%20%20%20%20%20%20%20%20%20%20%20%20%20%20%22https%3A//earthengine.googleapis.com/v1alpha/projects/earthengine-legacy/maps/965fca1334c8cbceca9f644b3c4e6714-d654232aa2ea12d7b41b0467943d5091/tiles/%7Bz%7D/%7Bx%7D/%7By%7D%22%2C%0A%20%20%20%20%20%20%20%20%20%20%20%20%20%20%20%20%7B%22attribution%22%3A%20%22Google%20Earth%20Engine%22%2C%20%22detectRetina%22%3A%20false%2C%20%22maxNativeZoom%22%3A%2018%2C%20%22maxZoom%22%3A%2018%2C%20%22minZoom%22%3A%200%2C%20%22noWrap%22%3A%20false%2C%20%22opacity%22%3A%201.0%2C%20%22subdomains%22%3A%20%22abc%22%2C%20%22tms%22%3A%20false%7D%0A%20%20%20%20%20%20%20%20%20%20%20%20%29.addTo%28map_be634a1b1a1a49c5b8068affa2bbcbbb%29%3B%0A%20%20%20%20%20%20%20%20%0A%20%20%20%20%0A%20%20%20%20%20%20%20%20%20%20%20%20var%20layer_control_095f7e2d52794d44947f84bb75beeea7%20%3D%20%7B%0A%20%20%20%20%20%20%20%20%20%20%20%20%20%20%20%20base_layers%20%3A%20%7B%0A%20%20%20%20%20%20%20%20%20%20%20%20%20%20%20%20%20%20%20%20%22openstreetmap%22%20%3A%20tile_layer_ce1b74c1198243b9a1eb7cf047709234%2C%0A%20%20%20%20%20%20%20%20%20%20%20%20%20%20%20%20%7D%2C%0A%20%20%20%20%20%20%20%20%20%20%20%20%20%20%20%20overlays%20%3A%20%20%7B%0A%20%20%20%20%20%20%20%20%20%20%20%20%20%20%20%20%20%20%20%20%22Google%20Maps%22%20%3A%20tile_layer_a19946855fa74e9e9127df05008cf6bf%2C%0A%20%20%20%20%20%20%20%20%20%20%20%20%20%20%20%20%20%20%20%20%22Istanbul%20Administrative%20Area%22%20%3A%20tile_layer_c52b19a5407a4a6db551e530bc77e8ea%2C%0A%20%20%20%20%20%20%20%20%20%20%20%20%20%20%20%20%7D%2C%0A%20%20%20%20%20%20%20%20%20%20%20%20%7D%3B%0A%20%20%20%20%20%20%20%20%20%20%20%20L.control.layers%28%0A%20%20%20%20%20%20%20%20%20%20%20%20%20%20%20%20layer_control_095f7e2d52794d44947f84bb75beeea7.base_layers%2C%0A%20%20%20%20%20%20%20%20%20%20%20%20%20%20%20%20layer_control_095f7e2d52794d44947f84bb75beeea7.overlays%2C%0A%20%20%20%20%20%20%20%20%20%20%20%20%20%20%20%20%7B%22autoZIndex%22%3A%20true%2C%20%22collapsed%22%3A%20true%2C%20%22position%22%3A%20%22topright%22%7D%0A%20%20%20%20%20%20%20%20%20%20%20%20%29.addTo%28map_be634a1b1a1a49c5b8068affa2bbcbbb%29%3B%0A%20%20%20%20%20%20%20%20%0A%3C/script%3E onload=\"this.contentDocument.open();this.contentDocument.write(    decodeURIComponent(this.getAttribute('data-html')));this.contentDocument.close();\" allowfullscreen webkitallowfullscreen mozallowfullscreen></iframe></div></div>"
      ],
      "text/plain": [
       "<geemap.eefolium.Map at 0x7f93ac339ac0>"
      ]
     },
     "metadata": {},
     "execution_count": 148
    }
   ],
   "metadata": {}
  },
  {
   "cell_type": "markdown",
   "source": [
    "We now can use these boundaries to **clip** the Radiance Calibrated Nighttime Lights data to our area of interest."
   ],
   "metadata": {}
  },
  {
   "cell_type": "code",
   "execution_count": 25,
   "source": [
    "# clip full radiance calibrated nighttime lights data to istanbul boundaries\n",
    "# take the median value of both Images to use as our final value for each pixel\n",
    "dmsp10_ist = dmsp10_vis.median().clip(ist_geom)"
   ],
   "outputs": [],
   "metadata": {}
  },
  {
   "cell_type": "code",
   "execution_count": 147,
   "source": [
    "# map the clipped radiance calibrated nighttime lights\n",
    "map1 = geemap.eefolium.Map()\n",
    "map1.centerObject(ist_geom, zoom=9)\n",
    "# use another basemap for additional options\n",
    "map1.add_basemap('SATELLITE')\n",
    "map1.addLayer(dmsp10_ist, {}, \"Radiance Calibrated 2010\")\n",
    "map1.addLayerControl()\n",
    "map1\n"
   ],
   "outputs": [
    {
     "output_type": "execute_result",
     "data": {
      "text/html": [
       "<div style=\"width:100%;\"><div style=\"position:relative;width:100%;height:0;padding-bottom:60%;\"><span style=\"color:#565656\">Make this Notebook Trusted to load map: File -> Trust Notebook</span><iframe src=\"about:blank\" style=\"position:absolute;width:100%;height:100%;left:0;top:0;border:none !important;\" data-html=%3C%21DOCTYPE%20html%3E%0A%3Chead%3E%20%20%20%20%0A%20%20%20%20%3Cmeta%20http-equiv%3D%22content-type%22%20content%3D%22text/html%3B%20charset%3DUTF-8%22%20/%3E%0A%20%20%20%20%0A%20%20%20%20%20%20%20%20%3Cscript%3E%0A%20%20%20%20%20%20%20%20%20%20%20%20L_NO_TOUCH%20%3D%20false%3B%0A%20%20%20%20%20%20%20%20%20%20%20%20L_DISABLE_3D%20%3D%20false%3B%0A%20%20%20%20%20%20%20%20%3C/script%3E%0A%20%20%20%20%0A%20%20%20%20%3Cstyle%3Ehtml%2C%20body%20%7Bwidth%3A%20100%25%3Bheight%3A%20100%25%3Bmargin%3A%200%3Bpadding%3A%200%3B%7D%3C/style%3E%0A%20%20%20%20%3Cstyle%3E%23map%20%7Bposition%3Aabsolute%3Btop%3A0%3Bbottom%3A0%3Bright%3A0%3Bleft%3A0%3B%7D%3C/style%3E%0A%20%20%20%20%3Cscript%20src%3D%22https%3A//cdn.jsdelivr.net/npm/leaflet%401.6.0/dist/leaflet.js%22%3E%3C/script%3E%0A%20%20%20%20%3Cscript%20src%3D%22https%3A//code.jquery.com/jquery-1.12.4.min.js%22%3E%3C/script%3E%0A%20%20%20%20%3Cscript%20src%3D%22https%3A//maxcdn.bootstrapcdn.com/bootstrap/3.2.0/js/bootstrap.min.js%22%3E%3C/script%3E%0A%20%20%20%20%3Cscript%20src%3D%22https%3A//cdnjs.cloudflare.com/ajax/libs/Leaflet.awesome-markers/2.0.2/leaflet.awesome-markers.js%22%3E%3C/script%3E%0A%20%20%20%20%3Clink%20rel%3D%22stylesheet%22%20href%3D%22https%3A//cdn.jsdelivr.net/npm/leaflet%401.6.0/dist/leaflet.css%22/%3E%0A%20%20%20%20%3Clink%20rel%3D%22stylesheet%22%20href%3D%22https%3A//maxcdn.bootstrapcdn.com/bootstrap/3.2.0/css/bootstrap.min.css%22/%3E%0A%20%20%20%20%3Clink%20rel%3D%22stylesheet%22%20href%3D%22https%3A//maxcdn.bootstrapcdn.com/bootstrap/3.2.0/css/bootstrap-theme.min.css%22/%3E%0A%20%20%20%20%3Clink%20rel%3D%22stylesheet%22%20href%3D%22https%3A//maxcdn.bootstrapcdn.com/font-awesome/4.6.3/css/font-awesome.min.css%22/%3E%0A%20%20%20%20%3Clink%20rel%3D%22stylesheet%22%20href%3D%22https%3A//cdnjs.cloudflare.com/ajax/libs/Leaflet.awesome-markers/2.0.2/leaflet.awesome-markers.css%22/%3E%0A%20%20%20%20%3Clink%20rel%3D%22stylesheet%22%20href%3D%22https%3A//cdn.jsdelivr.net/gh/python-visualization/folium/folium/templates/leaflet.awesome.rotate.min.css%22/%3E%0A%20%20%20%20%0A%20%20%20%20%20%20%20%20%20%20%20%20%3Cmeta%20name%3D%22viewport%22%20content%3D%22width%3Ddevice-width%2C%0A%20%20%20%20%20%20%20%20%20%20%20%20%20%20%20%20initial-scale%3D1.0%2C%20maximum-scale%3D1.0%2C%20user-scalable%3Dno%22%20/%3E%0A%20%20%20%20%20%20%20%20%20%20%20%20%3Cstyle%3E%0A%20%20%20%20%20%20%20%20%20%20%20%20%20%20%20%20%23map_3cd78379eb3f4e4a84130ecc5a3ea251%20%7B%0A%20%20%20%20%20%20%20%20%20%20%20%20%20%20%20%20%20%20%20%20position%3A%20relative%3B%0A%20%20%20%20%20%20%20%20%20%20%20%20%20%20%20%20%20%20%20%20width%3A%20100.0%25%3B%0A%20%20%20%20%20%20%20%20%20%20%20%20%20%20%20%20%20%20%20%20height%3A%20100.0%25%3B%0A%20%20%20%20%20%20%20%20%20%20%20%20%20%20%20%20%20%20%20%20left%3A%200.0%25%3B%0A%20%20%20%20%20%20%20%20%20%20%20%20%20%20%20%20%20%20%20%20top%3A%200.0%25%3B%0A%20%20%20%20%20%20%20%20%20%20%20%20%20%20%20%20%7D%0A%20%20%20%20%20%20%20%20%20%20%20%20%3C/style%3E%0A%20%20%20%20%20%20%20%20%0A%20%20%20%20%3Cscript%20src%3D%22https%3A//cdnjs.cloudflare.com/ajax/libs/leaflet.fullscreen/1.4.2/Control.FullScreen.min.js%22%3E%3C/script%3E%0A%20%20%20%20%3Clink%20rel%3D%22stylesheet%22%20href%3D%22https%3A//cdnjs.cloudflare.com/ajax/libs/leaflet.fullscreen/1.4.2/Control.FullScreen.min.css%22/%3E%0A%3C/head%3E%0A%3Cbody%3E%20%20%20%20%0A%20%20%20%20%0A%20%20%20%20%20%20%20%20%20%20%20%20%3Cdiv%20class%3D%22folium-map%22%20id%3D%22map_3cd78379eb3f4e4a84130ecc5a3ea251%22%20%3E%3C/div%3E%0A%20%20%20%20%20%20%20%20%0A%3C/body%3E%0A%3Cscript%3E%20%20%20%20%0A%20%20%20%20%0A%20%20%20%20%20%20%20%20%20%20%20%20var%20map_3cd78379eb3f4e4a84130ecc5a3ea251%20%3D%20L.map%28%0A%20%20%20%20%20%20%20%20%20%20%20%20%20%20%20%20%22map_3cd78379eb3f4e4a84130ecc5a3ea251%22%2C%0A%20%20%20%20%20%20%20%20%20%20%20%20%20%20%20%20%7B%0A%20%20%20%20%20%20%20%20%20%20%20%20%20%20%20%20%20%20%20%20center%3A%20%5B40.0%2C%20-100.0%5D%2C%0A%20%20%20%20%20%20%20%20%20%20%20%20%20%20%20%20%20%20%20%20crs%3A%20L.CRS.EPSG3857%2C%0A%20%20%20%20%20%20%20%20%20%20%20%20%20%20%20%20%20%20%20%20zoom%3A%204%2C%0A%20%20%20%20%20%20%20%20%20%20%20%20%20%20%20%20%20%20%20%20zoomControl%3A%20true%2C%0A%20%20%20%20%20%20%20%20%20%20%20%20%20%20%20%20%20%20%20%20preferCanvas%3A%20false%2C%0A%20%20%20%20%20%20%20%20%20%20%20%20%20%20%20%20%20%20%20%20eeInitialize%3A%20true%2C%0A%20%20%20%20%20%20%20%20%20%20%20%20%20%20%20%20%20%20%20%20addGoogleMap%3A%20true%2C%0A%20%20%20%20%20%20%20%20%20%20%20%20%20%20%20%20%20%20%20%20pluginLatlngpopup%3A%20true%2C%0A%20%20%20%20%20%20%20%20%20%20%20%20%20%20%20%20%20%20%20%20pluginFullscreen%3A%20true%2C%0A%20%20%20%20%20%20%20%20%20%20%20%20%20%20%20%20%20%20%20%20pluginDraw%3A%20false%2C%0A%20%20%20%20%20%20%20%20%20%20%20%20%20%20%20%20%20%20%20%20DrawExport%3A%20true%2C%0A%20%20%20%20%20%20%20%20%20%20%20%20%20%20%20%20%20%20%20%20pluginMinimap%3A%20false%2C%0A%20%20%20%20%20%20%20%20%20%20%20%20%20%20%20%20%20%20%20%20pluginLayercontrol%3A%20false%2C%0A%20%20%20%20%20%20%20%20%20%20%20%20%20%20%20%20%7D%0A%20%20%20%20%20%20%20%20%20%20%20%20%29%3B%0A%0A%20%20%20%20%20%20%20%20%20%20%20%20%0A%0A%20%20%20%20%20%20%20%20%0A%20%20%20%20%0A%20%20%20%20%20%20%20%20%20%20%20%20var%20tile_layer_42c127ef1ceb43e1b1bcd1fed9959ea2%20%3D%20L.tileLayer%28%0A%20%20%20%20%20%20%20%20%20%20%20%20%20%20%20%20%22https%3A//%7Bs%7D.tile.openstreetmap.org/%7Bz%7D/%7Bx%7D/%7By%7D.png%22%2C%0A%20%20%20%20%20%20%20%20%20%20%20%20%20%20%20%20%7B%22attribution%22%3A%20%22Data%20by%20%5Cu0026copy%3B%20%5Cu003ca%20href%3D%5C%22http%3A//openstreetmap.org%5C%22%5Cu003eOpenStreetMap%5Cu003c/a%5Cu003e%2C%20under%20%5Cu003ca%20href%3D%5C%22http%3A//www.openstreetmap.org/copyright%5C%22%5Cu003eODbL%5Cu003c/a%5Cu003e.%22%2C%20%22detectRetina%22%3A%20false%2C%20%22maxNativeZoom%22%3A%2018%2C%20%22maxZoom%22%3A%2018%2C%20%22minZoom%22%3A%200%2C%20%22noWrap%22%3A%20false%2C%20%22opacity%22%3A%201%2C%20%22subdomains%22%3A%20%22abc%22%2C%20%22tms%22%3A%20false%7D%0A%20%20%20%20%20%20%20%20%20%20%20%20%29.addTo%28map_3cd78379eb3f4e4a84130ecc5a3ea251%29%3B%0A%20%20%20%20%20%20%20%20%0A%20%20%20%20%0A%20%20%20%20%20%20%20%20%20%20%20%20var%20tile_layer_a19946855fa74e9e9127df05008cf6bf%20%3D%20L.tileLayer%28%0A%20%20%20%20%20%20%20%20%20%20%20%20%20%20%20%20%22https%3A//mt1.google.com/vt/lyrs%3Dm%5Cu0026x%3D%7Bx%7D%5Cu0026y%3D%7By%7D%5Cu0026z%3D%7Bz%7D%22%2C%0A%20%20%20%20%20%20%20%20%20%20%20%20%20%20%20%20%7B%22attribution%22%3A%20%22Google%22%2C%20%22detectRetina%22%3A%20false%2C%20%22maxNativeZoom%22%3A%2018%2C%20%22maxZoom%22%3A%2018%2C%20%22minZoom%22%3A%200%2C%20%22noWrap%22%3A%20false%2C%20%22opacity%22%3A%201%2C%20%22subdomains%22%3A%20%22abc%22%2C%20%22tms%22%3A%20false%7D%0A%20%20%20%20%20%20%20%20%20%20%20%20%29.addTo%28map_3cd78379eb3f4e4a84130ecc5a3ea251%29%3B%0A%20%20%20%20%20%20%20%20%0A%20%20%20%20%0A%20%20%20%20%20%20%20%20%20%20%20%20%20%20%20%20var%20lat_lng_popup_5ad3a7601feb4423be353a4f0abf24ce%20%3D%20L.popup%28%29%3B%0A%20%20%20%20%20%20%20%20%20%20%20%20%20%20%20%20function%20latLngPop%28e%29%20%7B%0A%20%20%20%20%20%20%20%20%20%20%20%20%20%20%20%20%20%20%20%20lat_lng_popup_5ad3a7601feb4423be353a4f0abf24ce%0A%20%20%20%20%20%20%20%20%20%20%20%20%20%20%20%20%20%20%20%20%20%20%20%20.setLatLng%28e.latlng%29%0A%20%20%20%20%20%20%20%20%20%20%20%20%20%20%20%20%20%20%20%20%20%20%20%20.setContent%28%22Latitude%3A%20%22%20%2B%20e.latlng.lat.toFixed%284%29%20%2B%0A%20%20%20%20%20%20%20%20%20%20%20%20%20%20%20%20%20%20%20%20%20%20%20%20%20%20%20%20%20%20%20%20%20%20%20%20%22%3Cbr%3ELongitude%3A%20%22%20%2B%20e.latlng.lng.toFixed%284%29%29%0A%20%20%20%20%20%20%20%20%20%20%20%20%20%20%20%20%20%20%20%20%20%20%20%20.openOn%28map_3cd78379eb3f4e4a84130ecc5a3ea251%29%3B%0A%20%20%20%20%20%20%20%20%20%20%20%20%20%20%20%20%20%20%20%20%7D%0A%20%20%20%20%20%20%20%20%20%20%20%20%20%20%20%20map_3cd78379eb3f4e4a84130ecc5a3ea251.on%28%27click%27%2C%20latLngPop%29%3B%0A%20%20%20%20%20%20%20%20%20%20%20%20%0A%20%20%20%20%0A%20%20%20%20%20%20%20%20%20%20%20%20L.control.fullscreen%28%0A%20%20%20%20%20%20%20%20%20%20%20%20%20%20%20%20%7B%22forceSeparateButton%22%3A%20false%2C%20%22position%22%3A%20%22topleft%22%2C%20%22title%22%3A%20%22Full%20Screen%22%2C%20%22titleCancel%22%3A%20%22Exit%20Full%20Screen%22%7D%0A%20%20%20%20%20%20%20%20%20%20%20%20%29.addTo%28map_3cd78379eb3f4e4a84130ecc5a3ea251%29%3B%0A%20%20%20%20%20%20%20%20%0A%20%20%20%20%0A%20%20%20%20%20%20%20%20%20%20%20%20map_3cd78379eb3f4e4a84130ecc5a3ea251.fitBounds%28%0A%20%20%20%20%20%20%20%20%20%20%20%20%20%20%20%20%5B%5B40%2C%20-100%5D%2C%20%5B40%2C%20-100%5D%5D%2C%0A%20%20%20%20%20%20%20%20%20%20%20%20%20%20%20%20%7B%22maxZoom%22%3A%204%7D%0A%20%20%20%20%20%20%20%20%20%20%20%20%29%3B%0A%20%20%20%20%20%20%20%20%0A%20%20%20%20%0A%20%20%20%20%20%20%20%20%20%20%20%20map_3cd78379eb3f4e4a84130ecc5a3ea251.fitBounds%28%0A%20%20%20%20%20%20%20%20%20%20%20%20%20%20%20%20%5B%5B41.15635566410431%2C%2028.844203407540512%5D%2C%20%5B41.15635566410431%2C%2028.844203407540512%5D%5D%2C%0A%20%20%20%20%20%20%20%20%20%20%20%20%20%20%20%20%7B%22maxZoom%22%3A%209%7D%0A%20%20%20%20%20%20%20%20%20%20%20%20%29%3B%0A%20%20%20%20%20%20%20%20%0A%20%20%20%20%0A%20%20%20%20%20%20%20%20%20%20%20%20var%20tile_layer_3e2a52e9d4774b7dab9f3712c430a94f%20%3D%20L.tileLayer%28%0A%20%20%20%20%20%20%20%20%20%20%20%20%20%20%20%20%22https%3A//mt1.google.com/vt/lyrs%3Ds%5Cu0026x%3D%7Bx%7D%5Cu0026y%3D%7By%7D%5Cu0026z%3D%7Bz%7D%22%2C%0A%20%20%20%20%20%20%20%20%20%20%20%20%20%20%20%20%7B%22attribution%22%3A%20%22Google%22%2C%20%22detectRetina%22%3A%20false%2C%20%22maxNativeZoom%22%3A%2018%2C%20%22maxZoom%22%3A%2018%2C%20%22minZoom%22%3A%200%2C%20%22noWrap%22%3A%20false%2C%20%22opacity%22%3A%201%2C%20%22subdomains%22%3A%20%22abc%22%2C%20%22tms%22%3A%20false%7D%0A%20%20%20%20%20%20%20%20%20%20%20%20%29.addTo%28map_3cd78379eb3f4e4a84130ecc5a3ea251%29%3B%0A%20%20%20%20%20%20%20%20%0A%20%20%20%20%0A%20%20%20%20%20%20%20%20%20%20%20%20var%20tile_layer_31bda51c6f784abb965cd044eca9c775%20%3D%20L.tileLayer%28%0A%20%20%20%20%20%20%20%20%20%20%20%20%20%20%20%20%22https%3A//earthengine.googleapis.com/v1alpha/projects/earthengine-legacy/maps/0caef2152ba7c3c9c96c0ecb1fa8f05d-fb6c13ec08fed28f26691bb09dd762d4/tiles/%7Bz%7D/%7Bx%7D/%7By%7D%22%2C%0A%20%20%20%20%20%20%20%20%20%20%20%20%20%20%20%20%7B%22attribution%22%3A%20%22Google%20Earth%20Engine%22%2C%20%22detectRetina%22%3A%20false%2C%20%22maxNativeZoom%22%3A%2018%2C%20%22maxZoom%22%3A%2018%2C%20%22minZoom%22%3A%200%2C%20%22noWrap%22%3A%20false%2C%20%22opacity%22%3A%201.0%2C%20%22subdomains%22%3A%20%22abc%22%2C%20%22tms%22%3A%20false%7D%0A%20%20%20%20%20%20%20%20%20%20%20%20%29.addTo%28map_3cd78379eb3f4e4a84130ecc5a3ea251%29%3B%0A%20%20%20%20%20%20%20%20%0A%20%20%20%20%0A%20%20%20%20%20%20%20%20%20%20%20%20var%20layer_control_ff0cd97c0d824e72938d47ed376f23cb%20%3D%20%7B%0A%20%20%20%20%20%20%20%20%20%20%20%20%20%20%20%20base_layers%20%3A%20%7B%0A%20%20%20%20%20%20%20%20%20%20%20%20%20%20%20%20%20%20%20%20%22openstreetmap%22%20%3A%20tile_layer_42c127ef1ceb43e1b1bcd1fed9959ea2%2C%0A%20%20%20%20%20%20%20%20%20%20%20%20%20%20%20%20%7D%2C%0A%20%20%20%20%20%20%20%20%20%20%20%20%20%20%20%20overlays%20%3A%20%20%7B%0A%20%20%20%20%20%20%20%20%20%20%20%20%20%20%20%20%20%20%20%20%22Google%20Maps%22%20%3A%20tile_layer_a19946855fa74e9e9127df05008cf6bf%2C%0A%20%20%20%20%20%20%20%20%20%20%20%20%20%20%20%20%20%20%20%20%22Google%20Satellite%22%20%3A%20tile_layer_3e2a52e9d4774b7dab9f3712c430a94f%2C%0A%20%20%20%20%20%20%20%20%20%20%20%20%20%20%20%20%20%20%20%20%22Radiance%20Calibrated%202010%22%20%3A%20tile_layer_31bda51c6f784abb965cd044eca9c775%2C%0A%20%20%20%20%20%20%20%20%20%20%20%20%20%20%20%20%7D%2C%0A%20%20%20%20%20%20%20%20%20%20%20%20%7D%3B%0A%20%20%20%20%20%20%20%20%20%20%20%20L.control.layers%28%0A%20%20%20%20%20%20%20%20%20%20%20%20%20%20%20%20layer_control_ff0cd97c0d824e72938d47ed376f23cb.base_layers%2C%0A%20%20%20%20%20%20%20%20%20%20%20%20%20%20%20%20layer_control_ff0cd97c0d824e72938d47ed376f23cb.overlays%2C%0A%20%20%20%20%20%20%20%20%20%20%20%20%20%20%20%20%7B%22autoZIndex%22%3A%20true%2C%20%22collapsed%22%3A%20true%2C%20%22position%22%3A%20%22topright%22%7D%0A%20%20%20%20%20%20%20%20%20%20%20%20%29.addTo%28map_3cd78379eb3f4e4a84130ecc5a3ea251%29%3B%0A%20%20%20%20%20%20%20%20%0A%3C/script%3E onload=\"this.contentDocument.open();this.contentDocument.write(    decodeURIComponent(this.getAttribute('data-html')));this.contentDocument.close();\" allowfullscreen webkitallowfullscreen mozallowfullscreen></iframe></div></div>"
      ],
      "text/plain": [
       "<geemap.eefolium.Map at 0x7f93ac312cd0>"
      ]
     },
     "metadata": {},
     "execution_count": 147
    }
   ],
   "metadata": {}
  },
  {
   "cell_type": "markdown",
   "source": [
    "# OPERATIONS AND ANALYSIS\n",
    "\n",
    "## Create areas around city center\n",
    "\n",
    "In order to perform analyses on a geographic area, it can often be helpful to define boundaries to create an area of interest. Using the example of Istanbul, we can create an area around the city center with a radius of 750 m to demonstrate.  \n",
    "  \n",
    "To create a circular buffer around our city center point, we can use [geopandas](https://geopandas.org/index.html). `Geopandas` is a popular Python package for working with geographic data, and it will easily allow us to create circular areas around a given point. To start, we will create our city center from the latitude and longitude values above using `geopandas.points_from_xy()`. Since we'll be wanting to calculate distance from points, we'll need to learn a bit about Coordinate Reference Systems (CRS). For more information on Coordinate Reference Systems in Python, see this [Towards Data Science](https://towardsdatascience.com/how-to-handle-map-projections-properly-in-python-bcbff78895c4) tutorial by Abdishakur.\n",
    "  \n",
    "One of the most common Coordinate Reference Systems is World Geodetic System 1984 (WGS84), which has the code EPSG:4326. This system defines locations on a three-dimensional surface using degrees (latitude and longitude) and is what is used by GPS systems. We can initially set our Coordinate Reference System (CRS) to 4326, since we will ultimately want to view and combine our data using this system, and we can easily view the details of this CRS using `geopandas.crs()`:"
   ],
   "metadata": {}
  },
  {
   "cell_type": "code",
   "execution_count": 30,
   "source": [
    "import geopandas as gpd \n",
    "\n",
    "# create basic geopandas dataframe to store the city center point\n",
    "loc_df = pd.DataFrame({'city':'Istanbul', 'lon':center_lon, 'lat':center_lat}, index=['IST'])\n",
    "loc_gdf = gpd.GeoDataFrame(loc_df, geometry=gpd.points_from_xy(loc_df.lon, loc_df.lat, crs=4326))\n",
    "loc_gdf"
   ],
   "outputs": [
    {
     "output_type": "execute_result",
     "data": {
      "text/html": [
       "<div>\n",
       "<style scoped>\n",
       "    .dataframe tbody tr th:only-of-type {\n",
       "        vertical-align: middle;\n",
       "    }\n",
       "\n",
       "    .dataframe tbody tr th {\n",
       "        vertical-align: top;\n",
       "    }\n",
       "\n",
       "    .dataframe thead th {\n",
       "        text-align: right;\n",
       "    }\n",
       "</style>\n",
       "<table border=\"1\" class=\"dataframe\">\n",
       "  <thead>\n",
       "    <tr style=\"text-align: right;\">\n",
       "      <th></th>\n",
       "      <th>city</th>\n",
       "      <th>lon</th>\n",
       "      <th>lat</th>\n",
       "      <th>geometry</th>\n",
       "    </tr>\n",
       "  </thead>\n",
       "  <tbody>\n",
       "    <tr>\n",
       "      <th>IST</th>\n",
       "      <td>Istanbul</td>\n",
       "      <td>28.95</td>\n",
       "      <td>41.03</td>\n",
       "      <td>POINT (28.95000 41.03000)</td>\n",
       "    </tr>\n",
       "  </tbody>\n",
       "</table>\n",
       "</div>"
      ],
      "text/plain": [
       "         city    lon    lat                   geometry\n",
       "IST  Istanbul  28.95  41.03  POINT (28.95000 41.03000)"
      ]
     },
     "metadata": {},
     "execution_count": 30
    }
   ],
   "metadata": {}
  },
  {
   "cell_type": "code",
   "execution_count": 31,
   "source": [
    "# examine the crs of the created city center point\n",
    "loc_gdf.crs"
   ],
   "outputs": [
    {
     "output_type": "execute_result",
     "data": {
      "text/plain": [
       "<Geographic 2D CRS: EPSG:4326>\n",
       "Name: WGS 84\n",
       "Axis Info [ellipsoidal]:\n",
       "- Lat[north]: Geodetic latitude (degree)\n",
       "- Lon[east]: Geodetic longitude (degree)\n",
       "Area of Use:\n",
       "- name: World.\n",
       "- bounds: (-180.0, -90.0, 180.0, 90.0)\n",
       "Datum: World Geodetic System 1984 ensemble\n",
       "- Ellipsoid: WGS 84\n",
       "- Prime Meridian: Greenwich"
      ]
     },
     "metadata": {},
     "execution_count": 31
    }
   ],
   "metadata": {}
  },
  {
   "cell_type": "markdown",
   "source": [
    "We see that the name of the CRS is WGS 84 and that the axis use latitude and longitude in degrees. The Area of Use demonstrates that this is a global coordinate system and shows the degree bounds we're familiar with for lat/lon.  \n",
    "  \n",
    "However, if we want to calculate the distance from a given point in meters, we can't use this CRS, as it's measured in degrees. Instead, we need to choose a CRS which can correctly identify meters around our given area of interest, which is Istanbul. This will require using a *projected coordinate system*, which is defined on a two-dimensional surface and will allow us to use traditional distance measures. To search for the appropriate CRS for a location, you can use https://epsg.io/ - we find that [EPSG:5637](https://epsg.io/5637) will work for Turkey. We can project to this CRS easily with geopandas using `to_crs()`. For more information about projections, see this [ESRI](https://desktop.arcgis.com/en/arcmap/latest/map/projections/projection-basics-for-gis-professionals.htm) explainer."
   ],
   "metadata": {}
  },
  {
   "cell_type": "code",
   "execution_count": 32,
   "source": [
    "loc_gdf = loc_gdf.to_crs(5637)\n",
    "loc_gdf"
   ],
   "outputs": [
    {
     "output_type": "execute_result",
     "data": {
      "text/html": [
       "<div>\n",
       "<style scoped>\n",
       "    .dataframe tbody tr th:only-of-type {\n",
       "        vertical-align: middle;\n",
       "    }\n",
       "\n",
       "    .dataframe tbody tr th {\n",
       "        vertical-align: top;\n",
       "    }\n",
       "\n",
       "    .dataframe thead th {\n",
       "        text-align: right;\n",
       "    }\n",
       "</style>\n",
       "<table border=\"1\" class=\"dataframe\">\n",
       "  <thead>\n",
       "    <tr style=\"text-align: right;\">\n",
       "      <th></th>\n",
       "      <th>city</th>\n",
       "      <th>lon</th>\n",
       "      <th>lat</th>\n",
       "      <th>geometry</th>\n",
       "    </tr>\n",
       "  </thead>\n",
       "  <tbody>\n",
       "    <tr>\n",
       "      <th>IST</th>\n",
       "      <td>Istanbul</td>\n",
       "      <td>28.95</td>\n",
       "      <td>41.03</td>\n",
       "      <td>POINT (5543159.083 1816518.609)</td>\n",
       "    </tr>\n",
       "  </tbody>\n",
       "</table>\n",
       "</div>"
      ],
      "text/plain": [
       "         city    lon    lat                         geometry\n",
       "IST  Istanbul  28.95  41.03  POINT (5543159.083 1816518.609)"
      ]
     },
     "metadata": {},
     "execution_count": 32
    }
   ],
   "metadata": {}
  },
  {
   "cell_type": "code",
   "execution_count": 33,
   "source": [
    "loc_gdf.crs"
   ],
   "outputs": [
    {
     "output_type": "execute_result",
     "data": {
      "text/plain": [
       "<Projected CRS: EPSG:5637>\n",
       "Name: TUREF / LCC Europe\n",
       "Axis Info [cartesian]:\n",
       "- N[north]: Northing (metre)\n",
       "- E[east]: Easting (metre)\n",
       "Area of Use:\n",
       "- name: Turkey - onshore and offshore.\n",
       "- bounds: (25.62, 34.42, 44.83, 43.45)\n",
       "Coordinate Operation:\n",
       "- name: Europe Conformal 2001\n",
       "- method: Lambert Conic Conformal (2SP)\n",
       "Datum: Turkish National Reference Frame\n",
       "- Ellipsoid: GRS 1980\n",
       "- Prime Meridian: Greenwich"
      ]
     },
     "metadata": {},
     "execution_count": 33
    }
   ],
   "metadata": {}
  },
  {
   "cell_type": "markdown",
   "source": [
    "Now when we check for information on our Coordinate Reference System, we find we're using a Projected CRS which measures distance in metres and is used for Turkey. We are now all set to create a buffer area around our point of 750 meters as an example."
   ],
   "metadata": {}
  },
  {
   "cell_type": "code",
   "execution_count": 34,
   "source": [
    "# Create area of radius 750 m around our original point\n",
    "loc_gdf['geometry'] = loc_gdf.geometry.buffer(750)"
   ],
   "outputs": [],
   "metadata": {}
  },
  {
   "cell_type": "markdown",
   "source": [
    "To use this buffer area with our other geographic information when mapping, we'll finally convert it back to EPSG:4326 and confirm we see the expected CRS information."
   ],
   "metadata": {}
  },
  {
   "cell_type": "code",
   "execution_count": 35,
   "source": [
    "loc_gdf.to_crs(4326, inplace=True)\n",
    "loc_gdf.crs"
   ],
   "outputs": [
    {
     "output_type": "execute_result",
     "data": {
      "text/plain": [
       "<Geographic 2D CRS: EPSG:4326>\n",
       "Name: WGS 84\n",
       "Axis Info [ellipsoidal]:\n",
       "- Lat[north]: Geodetic latitude (degree)\n",
       "- Lon[east]: Geodetic longitude (degree)\n",
       "Area of Use:\n",
       "- name: World.\n",
       "- bounds: (-180.0, -90.0, 180.0, 90.0)\n",
       "Datum: World Geodetic System 1984 ensemble\n",
       "- Ellipsoid: WGS 84\n",
       "- Prime Meridian: Greenwich"
      ]
     },
     "metadata": {},
     "execution_count": 35
    }
   ],
   "metadata": {}
  },
  {
   "cell_type": "markdown",
   "source": [
    "We can try plotting our buffer area, and we will be given a circular area with longitude and latitude as the x and y coordinates."
   ],
   "metadata": {}
  },
  {
   "cell_type": "code",
   "execution_count": 36,
   "source": [
    "loc_gdf.plot()"
   ],
   "outputs": [
    {
     "output_type": "execute_result",
     "data": {
      "text/plain": [
       "<AxesSubplot:>"
      ]
     },
     "metadata": {},
     "execution_count": 36
    },
    {
     "output_type": "display_data",
     "data": {
      "image/png": "[encoded data removed]",
      "text/plain": [
       "<Figure size 432x288 with 1 Axes>"
      ]
     },
     "metadata": {
      "needs_background": "light"
     }
    }
   ],
   "metadata": {}
  },
  {
   "cell_type": "markdown",
   "source": [
    "  \n",
    "To plot a map of Istanbul as a basemap we have a few options - to see examples which work well with `Geopandas`, you can look at the examples in the [GeoPandas Example Gallery](https://geopandas.org/gallery/plotting_basemap_background.html). To keep things consistent with our satellite data, we will convert the FAO GAUL 2015 area for Istanbul which we used above to a type GeoPandas recognizes and use this as our base layer. For more information on converting between `geemap` and `geopandas`, see this [documentation](https://geemap.org/notebooks/geopandas/). "
   ],
   "metadata": {}
  },
  {
   "cell_type": "code",
   "execution_count": 37,
   "source": [
    "ist_gpd = geemap.ee_to_geopandas(ee.FeatureCollection(\"FAO/GAUL/2015/level1\").filter(ee.Filter.eq('ADM1_NAME', 'Istanbul')), selectors=['ADM1_NAME'])\n",
    "ist_gpd.set_crs(4326, inplace=True)"
   ],
   "outputs": [
    {
     "output_type": "execute_result",
     "data": {
      "text/html": [
       "<div>\n",
       "<style scoped>\n",
       "    .dataframe tbody tr th:only-of-type {\n",
       "        vertical-align: middle;\n",
       "    }\n",
       "\n",
       "    .dataframe tbody tr th {\n",
       "        vertical-align: top;\n",
       "    }\n",
       "\n",
       "    .dataframe thead th {\n",
       "        text-align: right;\n",
       "    }\n",
       "</style>\n",
       "<table border=\"1\" class=\"dataframe\">\n",
       "  <thead>\n",
       "    <tr style=\"text-align: right;\">\n",
       "      <th></th>\n",
       "      <th>geometry</th>\n",
       "      <th>ADM0_CODE</th>\n",
       "      <th>ADM0_NAME</th>\n",
       "      <th>ADM1_CODE</th>\n",
       "      <th>ADM1_NAME</th>\n",
       "      <th>DISP_AREA</th>\n",
       "      <th>EXP1_YEAR</th>\n",
       "      <th>STATUS</th>\n",
       "      <th>STR1_YEAR</th>\n",
       "      <th>Shape_Area</th>\n",
       "      <th>Shape_Leng</th>\n",
       "    </tr>\n",
       "  </thead>\n",
       "  <tbody>\n",
       "    <tr>\n",
       "      <th>0</th>\n",
       "      <td>MULTIPOLYGON (((29.04607 40.91849, 29.05421 40...</td>\n",
       "      <td>249</td>\n",
       "      <td>Turkey</td>\n",
       "      <td>3056</td>\n",
       "      <td>Istanbul</td>\n",
       "      <td>NO</td>\n",
       "      <td>3000</td>\n",
       "      <td>Member State</td>\n",
       "      <td>1000</td>\n",
       "      <td>0.56045</td>\n",
       "      <td>6.169291</td>\n",
       "    </tr>\n",
       "  </tbody>\n",
       "</table>\n",
       "</div>"
      ],
      "text/plain": [
       "                                            geometry  ADM0_CODE ADM0_NAME  \\\n",
       "0  MULTIPOLYGON (((29.04607 40.91849, 29.05421 40...        249    Turkey   \n",
       "\n",
       "   ADM1_CODE ADM1_NAME DISP_AREA  EXP1_YEAR        STATUS  STR1_YEAR  \\\n",
       "0       3056  Istanbul        NO       3000  Member State       1000   \n",
       "\n",
       "   Shape_Area  Shape_Leng  \n",
       "0     0.56045    6.169291  "
      ]
     },
     "metadata": {},
     "execution_count": 37
    }
   ],
   "metadata": {}
  },
  {
   "cell_type": "markdown",
   "source": [
    "We can then plot both on the same graph to view our area in context of the map of Istanbul. We'll use `matplotlib.pyplot` to plot our map with both the Istanbul layer and the buffer area layer. For more information on mapping and plotting with Geopandas, see the [documentation](https://geopandas.org/docs/user_guide/mapping.html)."
   ],
   "metadata": {}
  },
  {
   "cell_type": "code",
   "execution_count": 38,
   "source": [
    "import matplotlib.pyplot as plt\n",
    "fig, ax = plt.subplots(figsize=(12,6))\n",
    "\n",
    "# set aspect to equal. This is done automatically\n",
    "# when using *geopandas* plot on it's own, but not when\n",
    "# working with pyplot directly.\n",
    "ax.set_aspect('equal')\n",
    "\n",
    "ist_gpd.plot(ax=ax, color='white', edgecolor='black')\n",
    "loc_gdf.plot(ax=ax, color='red')\n",
    "plt.title('Istanbul Map and City Center with 750m Radius Buffer Area')\n",
    "plt.xlabel('Longitude')\n",
    "plt.ylabel('Latitude')\n",
    "plt.show();\n"
   ],
   "outputs": [
    {
     "output_type": "display_data",
     "data": {
      "image/png": "[encoded data removed]",
      "text/plain": [
       "<Figure size 864x432 with 1 Axes>"
      ]
     },
     "metadata": {
      "needs_background": "light"
     }
    }
   ],
   "metadata": {}
  },
  {
   "cell_type": "markdown",
   "source": [
    "## Calculate light intensity within buffer areas\n",
    "\n",
    "Since we're interested in the light intensity in these city areas, we can use the DMSP-OLS values from the `avg_vis` band and calculate the mean light intensity for our given area. We will first need to convert our buffer area to an ee.FeatureCollection type and apply `.geometry()` in order to use this area to filter the DMSP-OLS range and subsequently calculate the mean and standard deviation using `geemap`. First, we'll convert the buffer to a type usable by geemap and plot the area to confirm everything went according to plan."
   ],
   "metadata": {}
  },
  {
   "cell_type": "code",
   "execution_count": 149,
   "source": [
    "# convert geopandas area to ee recognized area\n",
    "ee_buff750 = geemap.geopandas_to_ee(loc_gdf).geometry()\n",
    "\n",
    "# create map centered on Istanbul and identifying the buffer area\n",
    "map_buff750 = geemap.eefolium.Map(center=[center_lat,center_lon],zoom=12)\n",
    "map_buff750.addLayer(ee_buff750,vis_params={'color':'a4c639'},opacity=0.8)\n",
    "map_buff750"
   ],
   "outputs": [
    {
     "output_type": "execute_result",
     "data": {
      "text/html": [
       "<div style=\"width:100%;\"><div style=\"position:relative;width:100%;height:0;padding-bottom:60%;\"><span style=\"color:#565656\">Make this Notebook Trusted to load map: File -> Trust Notebook</span><iframe src=\"about:blank\" style=\"position:absolute;width:100%;height:100%;left:0;top:0;border:none !important;\" data-html=%3C%21DOCTYPE%20html%3E%0A%3Chead%3E%20%20%20%20%0A%20%20%20%20%3Cmeta%20http-equiv%3D%22content-type%22%20content%3D%22text/html%3B%20charset%3DUTF-8%22%20/%3E%0A%20%20%20%20%0A%20%20%20%20%20%20%20%20%3Cscript%3E%0A%20%20%20%20%20%20%20%20%20%20%20%20L_NO_TOUCH%20%3D%20false%3B%0A%20%20%20%20%20%20%20%20%20%20%20%20L_DISABLE_3D%20%3D%20false%3B%0A%20%20%20%20%20%20%20%20%3C/script%3E%0A%20%20%20%20%0A%20%20%20%20%3Cstyle%3Ehtml%2C%20body%20%7Bwidth%3A%20100%25%3Bheight%3A%20100%25%3Bmargin%3A%200%3Bpadding%3A%200%3B%7D%3C/style%3E%0A%20%20%20%20%3Cstyle%3E%23map%20%7Bposition%3Aabsolute%3Btop%3A0%3Bbottom%3A0%3Bright%3A0%3Bleft%3A0%3B%7D%3C/style%3E%0A%20%20%20%20%3Cscript%20src%3D%22https%3A//cdn.jsdelivr.net/npm/leaflet%401.6.0/dist/leaflet.js%22%3E%3C/script%3E%0A%20%20%20%20%3Cscript%20src%3D%22https%3A//code.jquery.com/jquery-1.12.4.min.js%22%3E%3C/script%3E%0A%20%20%20%20%3Cscript%20src%3D%22https%3A//maxcdn.bootstrapcdn.com/bootstrap/3.2.0/js/bootstrap.min.js%22%3E%3C/script%3E%0A%20%20%20%20%3Cscript%20src%3D%22https%3A//cdnjs.cloudflare.com/ajax/libs/Leaflet.awesome-markers/2.0.2/leaflet.awesome-markers.js%22%3E%3C/script%3E%0A%20%20%20%20%3Clink%20rel%3D%22stylesheet%22%20href%3D%22https%3A//cdn.jsdelivr.net/npm/leaflet%401.6.0/dist/leaflet.css%22/%3E%0A%20%20%20%20%3Clink%20rel%3D%22stylesheet%22%20href%3D%22https%3A//maxcdn.bootstrapcdn.com/bootstrap/3.2.0/css/bootstrap.min.css%22/%3E%0A%20%20%20%20%3Clink%20rel%3D%22stylesheet%22%20href%3D%22https%3A//maxcdn.bootstrapcdn.com/bootstrap/3.2.0/css/bootstrap-theme.min.css%22/%3E%0A%20%20%20%20%3Clink%20rel%3D%22stylesheet%22%20href%3D%22https%3A//maxcdn.bootstrapcdn.com/font-awesome/4.6.3/css/font-awesome.min.css%22/%3E%0A%20%20%20%20%3Clink%20rel%3D%22stylesheet%22%20href%3D%22https%3A//cdnjs.cloudflare.com/ajax/libs/Leaflet.awesome-markers/2.0.2/leaflet.awesome-markers.css%22/%3E%0A%20%20%20%20%3Clink%20rel%3D%22stylesheet%22%20href%3D%22https%3A//cdn.jsdelivr.net/gh/python-visualization/folium/folium/templates/leaflet.awesome.rotate.min.css%22/%3E%0A%20%20%20%20%0A%20%20%20%20%20%20%20%20%20%20%20%20%3Cmeta%20name%3D%22viewport%22%20content%3D%22width%3Ddevice-width%2C%0A%20%20%20%20%20%20%20%20%20%20%20%20%20%20%20%20initial-scale%3D1.0%2C%20maximum-scale%3D1.0%2C%20user-scalable%3Dno%22%20/%3E%0A%20%20%20%20%20%20%20%20%20%20%20%20%3Cstyle%3E%0A%20%20%20%20%20%20%20%20%20%20%20%20%20%20%20%20%23map_b22eda1aae1d48d1bb2bb17d1118d9e1%20%7B%0A%20%20%20%20%20%20%20%20%20%20%20%20%20%20%20%20%20%20%20%20position%3A%20relative%3B%0A%20%20%20%20%20%20%20%20%20%20%20%20%20%20%20%20%20%20%20%20width%3A%20100.0%25%3B%0A%20%20%20%20%20%20%20%20%20%20%20%20%20%20%20%20%20%20%20%20height%3A%20100.0%25%3B%0A%20%20%20%20%20%20%20%20%20%20%20%20%20%20%20%20%20%20%20%20left%3A%200.0%25%3B%0A%20%20%20%20%20%20%20%20%20%20%20%20%20%20%20%20%20%20%20%20top%3A%200.0%25%3B%0A%20%20%20%20%20%20%20%20%20%20%20%20%20%20%20%20%7D%0A%20%20%20%20%20%20%20%20%20%20%20%20%3C/style%3E%0A%20%20%20%20%20%20%20%20%0A%20%20%20%20%3Cscript%20src%3D%22https%3A//cdnjs.cloudflare.com/ajax/libs/leaflet.fullscreen/1.4.2/Control.FullScreen.min.js%22%3E%3C/script%3E%0A%20%20%20%20%3Clink%20rel%3D%22stylesheet%22%20href%3D%22https%3A//cdnjs.cloudflare.com/ajax/libs/leaflet.fullscreen/1.4.2/Control.FullScreen.min.css%22/%3E%0A%3C/head%3E%0A%3Cbody%3E%20%20%20%20%0A%20%20%20%20%0A%20%20%20%20%20%20%20%20%20%20%20%20%3Cdiv%20class%3D%22folium-map%22%20id%3D%22map_b22eda1aae1d48d1bb2bb17d1118d9e1%22%20%3E%3C/div%3E%0A%20%20%20%20%20%20%20%20%0A%3C/body%3E%0A%3Cscript%3E%20%20%20%20%0A%20%20%20%20%0A%20%20%20%20%20%20%20%20%20%20%20%20var%20map_b22eda1aae1d48d1bb2bb17d1118d9e1%20%3D%20L.map%28%0A%20%20%20%20%20%20%20%20%20%20%20%20%20%20%20%20%22map_b22eda1aae1d48d1bb2bb17d1118d9e1%22%2C%0A%20%20%20%20%20%20%20%20%20%20%20%20%20%20%20%20%7B%0A%20%20%20%20%20%20%20%20%20%20%20%20%20%20%20%20%20%20%20%20center%3A%20%5B41.03%2C%2028.95%5D%2C%0A%20%20%20%20%20%20%20%20%20%20%20%20%20%20%20%20%20%20%20%20crs%3A%20L.CRS.EPSG3857%2C%0A%20%20%20%20%20%20%20%20%20%20%20%20%20%20%20%20%20%20%20%20zoom%3A%2012%2C%0A%20%20%20%20%20%20%20%20%20%20%20%20%20%20%20%20%20%20%20%20zoomControl%3A%20true%2C%0A%20%20%20%20%20%20%20%20%20%20%20%20%20%20%20%20%20%20%20%20preferCanvas%3A%20false%2C%0A%20%20%20%20%20%20%20%20%20%20%20%20%20%20%20%20%20%20%20%20eeInitialize%3A%20true%2C%0A%20%20%20%20%20%20%20%20%20%20%20%20%20%20%20%20%20%20%20%20addGoogleMap%3A%20true%2C%0A%20%20%20%20%20%20%20%20%20%20%20%20%20%20%20%20%20%20%20%20pluginLatlngpopup%3A%20true%2C%0A%20%20%20%20%20%20%20%20%20%20%20%20%20%20%20%20%20%20%20%20pluginFullscreen%3A%20true%2C%0A%20%20%20%20%20%20%20%20%20%20%20%20%20%20%20%20%20%20%20%20pluginDraw%3A%20false%2C%0A%20%20%20%20%20%20%20%20%20%20%20%20%20%20%20%20%20%20%20%20DrawExport%3A%20true%2C%0A%20%20%20%20%20%20%20%20%20%20%20%20%20%20%20%20%20%20%20%20pluginMinimap%3A%20false%2C%0A%20%20%20%20%20%20%20%20%20%20%20%20%20%20%20%20%20%20%20%20pluginLayercontrol%3A%20false%2C%0A%20%20%20%20%20%20%20%20%20%20%20%20%20%20%20%20%7D%0A%20%20%20%20%20%20%20%20%20%20%20%20%29%3B%0A%0A%20%20%20%20%20%20%20%20%20%20%20%20%0A%0A%20%20%20%20%20%20%20%20%0A%20%20%20%20%0A%20%20%20%20%20%20%20%20%20%20%20%20var%20tile_layer_4c742125b2574f7b8ebd613b77e3221b%20%3D%20L.tileLayer%28%0A%20%20%20%20%20%20%20%20%20%20%20%20%20%20%20%20%22https%3A//%7Bs%7D.tile.openstreetmap.org/%7Bz%7D/%7Bx%7D/%7By%7D.png%22%2C%0A%20%20%20%20%20%20%20%20%20%20%20%20%20%20%20%20%7B%22attribution%22%3A%20%22Data%20by%20%5Cu0026copy%3B%20%5Cu003ca%20href%3D%5C%22http%3A//openstreetmap.org%5C%22%5Cu003eOpenStreetMap%5Cu003c/a%5Cu003e%2C%20under%20%5Cu003ca%20href%3D%5C%22http%3A//www.openstreetmap.org/copyright%5C%22%5Cu003eODbL%5Cu003c/a%5Cu003e.%22%2C%20%22detectRetina%22%3A%20false%2C%20%22maxNativeZoom%22%3A%2018%2C%20%22maxZoom%22%3A%2018%2C%20%22minZoom%22%3A%200%2C%20%22noWrap%22%3A%20false%2C%20%22opacity%22%3A%201%2C%20%22subdomains%22%3A%20%22abc%22%2C%20%22tms%22%3A%20false%7D%0A%20%20%20%20%20%20%20%20%20%20%20%20%29.addTo%28map_b22eda1aae1d48d1bb2bb17d1118d9e1%29%3B%0A%20%20%20%20%20%20%20%20%0A%20%20%20%20%0A%20%20%20%20%20%20%20%20%20%20%20%20var%20tile_layer_a19946855fa74e9e9127df05008cf6bf%20%3D%20L.tileLayer%28%0A%20%20%20%20%20%20%20%20%20%20%20%20%20%20%20%20%22https%3A//mt1.google.com/vt/lyrs%3Dm%5Cu0026x%3D%7Bx%7D%5Cu0026y%3D%7By%7D%5Cu0026z%3D%7Bz%7D%22%2C%0A%20%20%20%20%20%20%20%20%20%20%20%20%20%20%20%20%7B%22attribution%22%3A%20%22Google%22%2C%20%22detectRetina%22%3A%20false%2C%20%22maxNativeZoom%22%3A%2018%2C%20%22maxZoom%22%3A%2018%2C%20%22minZoom%22%3A%200%2C%20%22noWrap%22%3A%20false%2C%20%22opacity%22%3A%201%2C%20%22subdomains%22%3A%20%22abc%22%2C%20%22tms%22%3A%20false%7D%0A%20%20%20%20%20%20%20%20%20%20%20%20%29.addTo%28map_b22eda1aae1d48d1bb2bb17d1118d9e1%29%3B%0A%20%20%20%20%20%20%20%20%0A%20%20%20%20%0A%20%20%20%20%20%20%20%20%20%20%20%20%20%20%20%20var%20lat_lng_popup_87105805ab49436392db184b7178d5c8%20%3D%20L.popup%28%29%3B%0A%20%20%20%20%20%20%20%20%20%20%20%20%20%20%20%20function%20latLngPop%28e%29%20%7B%0A%20%20%20%20%20%20%20%20%20%20%20%20%20%20%20%20%20%20%20%20lat_lng_popup_87105805ab49436392db184b7178d5c8%0A%20%20%20%20%20%20%20%20%20%20%20%20%20%20%20%20%20%20%20%20%20%20%20%20.setLatLng%28e.latlng%29%0A%20%20%20%20%20%20%20%20%20%20%20%20%20%20%20%20%20%20%20%20%20%20%20%20.setContent%28%22Latitude%3A%20%22%20%2B%20e.latlng.lat.toFixed%284%29%20%2B%0A%20%20%20%20%20%20%20%20%20%20%20%20%20%20%20%20%20%20%20%20%20%20%20%20%20%20%20%20%20%20%20%20%20%20%20%20%22%3Cbr%3ELongitude%3A%20%22%20%2B%20e.latlng.lng.toFixed%284%29%29%0A%20%20%20%20%20%20%20%20%20%20%20%20%20%20%20%20%20%20%20%20%20%20%20%20.openOn%28map_b22eda1aae1d48d1bb2bb17d1118d9e1%29%3B%0A%20%20%20%20%20%20%20%20%20%20%20%20%20%20%20%20%20%20%20%20%7D%0A%20%20%20%20%20%20%20%20%20%20%20%20%20%20%20%20map_b22eda1aae1d48d1bb2bb17d1118d9e1.on%28%27click%27%2C%20latLngPop%29%3B%0A%20%20%20%20%20%20%20%20%20%20%20%20%0A%20%20%20%20%0A%20%20%20%20%20%20%20%20%20%20%20%20L.control.fullscreen%28%0A%20%20%20%20%20%20%20%20%20%20%20%20%20%20%20%20%7B%22forceSeparateButton%22%3A%20false%2C%20%22position%22%3A%20%22topleft%22%2C%20%22title%22%3A%20%22Full%20Screen%22%2C%20%22titleCancel%22%3A%20%22Exit%20Full%20Screen%22%7D%0A%20%20%20%20%20%20%20%20%20%20%20%20%29.addTo%28map_b22eda1aae1d48d1bb2bb17d1118d9e1%29%3B%0A%20%20%20%20%20%20%20%20%0A%20%20%20%20%0A%20%20%20%20%20%20%20%20%20%20%20%20map_b22eda1aae1d48d1bb2bb17d1118d9e1.fitBounds%28%0A%20%20%20%20%20%20%20%20%20%20%20%20%20%20%20%20%5B%5B41.03%2C%2028.95%5D%2C%20%5B41.03%2C%2028.95%5D%5D%2C%0A%20%20%20%20%20%20%20%20%20%20%20%20%20%20%20%20%7B%22maxZoom%22%3A%2012%7D%0A%20%20%20%20%20%20%20%20%20%20%20%20%29%3B%0A%20%20%20%20%20%20%20%20%0A%20%20%20%20%0A%20%20%20%20%20%20%20%20%20%20%20%20var%20tile_layer_db6f5d683aab4974ac1db4d3b509a52d%20%3D%20L.tileLayer%28%0A%20%20%20%20%20%20%20%20%20%20%20%20%20%20%20%20%22https%3A//earthengine.googleapis.com/v1alpha/projects/earthengine-legacy/maps/91c827ed7c93f5b8deb1a77b60445c35-e9c1d7248a3afd49064d931d858d6652/tiles/%7Bz%7D/%7Bx%7D/%7By%7D%22%2C%0A%20%20%20%20%20%20%20%20%20%20%20%20%20%20%20%20%7B%22attribution%22%3A%20%22Google%20Earth%20Engine%22%2C%20%22detectRetina%22%3A%20false%2C%20%22maxNativeZoom%22%3A%2018%2C%20%22maxZoom%22%3A%2018%2C%20%22minZoom%22%3A%200%2C%20%22noWrap%22%3A%20false%2C%20%22opacity%22%3A%200.8%2C%20%22subdomains%22%3A%20%22abc%22%2C%20%22tms%22%3A%20false%7D%0A%20%20%20%20%20%20%20%20%20%20%20%20%29.addTo%28map_b22eda1aae1d48d1bb2bb17d1118d9e1%29%3B%0A%20%20%20%20%20%20%20%20%0A%20%20%20%20%0A%20%20%20%20%20%20%20%20%20%20%20%20var%20layer_control_70851cbf533a45c392a9198bce57ec3b%20%3D%20%7B%0A%20%20%20%20%20%20%20%20%20%20%20%20%20%20%20%20base_layers%20%3A%20%7B%0A%20%20%20%20%20%20%20%20%20%20%20%20%20%20%20%20%20%20%20%20%22openstreetmap%22%20%3A%20tile_layer_4c742125b2574f7b8ebd613b77e3221b%2C%0A%20%20%20%20%20%20%20%20%20%20%20%20%20%20%20%20%7D%2C%0A%20%20%20%20%20%20%20%20%20%20%20%20%20%20%20%20overlays%20%3A%20%20%7B%0A%20%20%20%20%20%20%20%20%20%20%20%20%20%20%20%20%20%20%20%20%22Google%20Maps%22%20%3A%20tile_layer_a19946855fa74e9e9127df05008cf6bf%2C%0A%20%20%20%20%20%20%20%20%20%20%20%20%20%20%20%20%20%20%20%20%22Layer%20untitled%22%20%3A%20tile_layer_db6f5d683aab4974ac1db4d3b509a52d%2C%0A%20%20%20%20%20%20%20%20%20%20%20%20%20%20%20%20%7D%2C%0A%20%20%20%20%20%20%20%20%20%20%20%20%7D%3B%0A%20%20%20%20%20%20%20%20%20%20%20%20L.control.layers%28%0A%20%20%20%20%20%20%20%20%20%20%20%20%20%20%20%20layer_control_70851cbf533a45c392a9198bce57ec3b.base_layers%2C%0A%20%20%20%20%20%20%20%20%20%20%20%20%20%20%20%20layer_control_70851cbf533a45c392a9198bce57ec3b.overlays%2C%0A%20%20%20%20%20%20%20%20%20%20%20%20%20%20%20%20%7B%22autoZIndex%22%3A%20true%2C%20%22collapsed%22%3A%20true%2C%20%22position%22%3A%20%22topright%22%7D%0A%20%20%20%20%20%20%20%20%20%20%20%20%29.addTo%28map_b22eda1aae1d48d1bb2bb17d1118d9e1%29%3B%0A%20%20%20%20%20%20%20%20%0A%3C/script%3E onload=\"this.contentDocument.open();this.contentDocument.write(    decodeURIComponent(this.getAttribute('data-html')));this.contentDocument.close();\" allowfullscreen webkitallowfullscreen mozallowfullscreen></iframe></div></div>"
      ],
      "text/plain": [
       "<geemap.eefolium.Map at 0x7f93ac30d0a0>"
      ]
     },
     "metadata": {},
     "execution_count": 149
    }
   ],
   "metadata": {}
  },
  {
   "cell_type": "markdown",
   "source": [
    "Success! This is what we were expecting to see, and now we want to bring our radiance calibrated nighttime lights values back into use. We'll use this boundary area to clip our full DMSP-OLS data from 2010 to only provide values for our area of interest, and then we can use Google Earth Images [reduction](https://developers.google.com/earth-engine/guides/reducers_image) functionality to find the mean and standard deviation of the light intensity in this area. For more information on this function and application, see the [World Bank Nighttime Lights Tutorial](https://worldbank.github.io/OpenNightLights/tutorials/mod3_4_cell_statistics_band_math.html) or the [Google Earth Image Documentation](https://developers.google.com/earth-engine/guides/reducers_reduce_region)."
   ],
   "metadata": {}
  },
  {
   "cell_type": "code",
   "execution_count": 43,
   "source": [
    "# filter DMSP-OLS values to only include buffer area\n",
    "dmsp10_ist_750 = dmsp10_vis.median().clip(ee_buff750)\n",
    "\n",
    "# reduce all pixels in our area to mean and standard deviation\n",
    "mu750 = dmsp10_ist_750.reduceRegion(reducer=ee.Reducer.mean(),scale=30)\n",
    "std750 = dmsp10_ist_750.reduceRegion(reducer=ee.Reducer.stdDev(),scale=30)\n",
    "\n",
    "# cast the mean /std values from our avg_vis band to native ee Numbers\n",
    "mu750 = ee.Number(mu750.get('avg_vis'))\n",
    "std750 = ee.Number(std750.get('avg_vis'))\n",
    "\n",
    "# view the resulting values for mean and standard deviation\n",
    "print(mu750.getInfo(), std750.getInfo())"
   ],
   "outputs": [
    {
     "output_type": "stream",
     "name": "stdout",
     "text": [
      "577.4093896704712 16.947791146196376\n"
     ]
    }
   ],
   "metadata": {}
  },
  {
   "cell_type": "markdown",
   "source": [
    "We now have statistics for the intensity of light within a 750m radius of the city center of Istanbul. If we want to compare how light intensity changes as we move away from the city center, as Gonzalez-Navarro and Turner do in `Subways and Urban Growth: Evidence from Earth` (2018), we can create these boundary areas for different, increasing radii around the city center. While we could manually do this for each desired radius, it would be more efficient to create a function which we can reuse for any radii or type of satellite images. "
   ],
   "metadata": {}
  },
  {
   "cell_type": "code",
   "execution_count": 83,
   "source": [
    "def calc_intensity(center, radii, image, band):\n",
    "    \"\"\"\n",
    "    Inputs:\n",
    "        center (list of float): [lon, lat] for center of interest area\n",
    "        radii (list of int): list of the radii around the center to calculate values for\n",
    "        image (Image): geemap Image with desired data\n",
    "        band (str): band to calculate mean/std from\n",
    "    Returns:\n",
    "        loc_gdf (GeoDataFrame): a GeoPandas GeoDataFrame with each buffer area as a separate row in CRS 4326\n",
    "        full_df_ee (DataFrame): a Pandas DataFrame containing the mean and st dev light intensity for each radius's buffer area\n",
    "    \"\"\"\n",
    "    ist_lights = pd.DataFrame()\n",
    "    num_rows = len(radii)\n",
    "\n",
    "    center_lon, center_lat = center\n",
    "    # create basic geopandas dataframe to store the city center point\n",
    "    ist_buffs = pd.DataFrame({'lon':center_lon, 'lat':center_lat}, index=[0])\n",
    "    # add rows to dataframe to match number of radii provided\n",
    "    ist_buffs = pd.concat([ist_buffs]*num_rows, ignore_index=True)\n",
    "    ist_buffs = gpd.GeoDataFrame(ist_buffs, geometry=gpd.points_from_xy(ist_buffs.lon, ist_buffs.lat, crs=4326))\n",
    "    # convert to Turkey CRS for calculation of buffer radii in meters\n",
    "    ist_buffs = ist_buffs.to_crs(5637)\n",
    "\n",
    "    # convert points to buffers of specified radii \n",
    "    for i in range(num_rows):\n",
    "        radius = radii[i]\n",
    "        print('creating buffer area for radius', radius / 1000)\n",
    "        ist_buffs.loc[i, 'geometry'] = ist_buffs.loc[i,'geometry'].buffer(radius)\n",
    "        ist_buffs.loc[i, 'radius'] = radius / 1000\n",
    "    \n",
    "    # convert back to lat/long CRS for use with geemap\n",
    "    ist_buffs.to_crs(4326, inplace=True)\n",
    "\n",
    "    for i in range(num_rows):\n",
    "        radius = radii[i] / 1000\n",
    "        print('calculating mean and std for radius', radius)\n",
    "        # pull out single row from buffer dataframe\n",
    "        gpd_buff = gpd.GeoDataFrame(ist_buffs[i : i+1])\n",
    "        # convert geopandas geometry to ee geometry for use in geemap\n",
    "        ee_buff = geemap.geopandas_to_ee(gpd_buff).geometry()\n",
    "        # clip radiance calibrated DMSP-OLS values to only include buffer area\n",
    "        dmsp10_ist_buff = image.clip(ee_buff)\n",
    "        \n",
    "        # Calculate mean and standard deviation for area\n",
    "        mu = dmsp10_ist_buff.reduceRegion(reducer=ee.Reducer.mean(),scale=30)\n",
    "        std = dmsp10_ist_buff.reduceRegion(reducer=ee.Reducer.stdDev(),scale=30)\n",
    "        mu = ee.Number(mu.get(band))\n",
    "        std = ee.Number(std.get(band))\n",
    "        \n",
    "        # add all values to dataframe\n",
    "        df = pd.DataFrame({'lon':center_lon, 'lat':center_lat, 'radius (km)': radius, 'value':band, 'mean': mu.getInfo(), 'std': std.getInfo()}, index=[radius])\n",
    "        ist_lights = ist_lights.append(df)\n",
    "\n",
    "    return ist_buffs, ist_lights "
   ],
   "outputs": [],
   "metadata": {}
  },
  {
   "cell_type": "code",
   "execution_count": 84,
   "source": [
    "# set instanbul as the center\n",
    "center = [28.95, 41.03]\n",
    "\n",
    "# set list of radii as defined in Gonzalez-Navarro and Turner (2018)\n",
    "radii = [750, 3250, 7500, 17500, 37500]\n",
    "\n",
    "# calculate mean and std for each buffer area specified in radii\n",
    "ist_buffs, ist_lights = calc_intensity(center, radii, dmsp10_vis.median(), 'avg_vis')\n",
    "ist_lights"
   ],
   "outputs": [
    {
     "output_type": "stream",
     "name": "stdout",
     "text": [
      "creating buffer area for radius 0.75\n",
      "creating buffer area for radius 3.25\n",
      "creating buffer area for radius 7.5\n",
      "creating buffer area for radius 17.5\n",
      "creating buffer area for radius 37.5\n",
      "calculating mean and std for radius 0.75\n",
      "calculating mean and std for radius 3.25\n",
      "calculating mean and std for radius 7.5\n",
      "calculating mean and std for radius 17.5\n",
      "calculating mean and std for radius 37.5\n"
     ]
    },
    {
     "output_type": "execute_result",
     "data": {
      "text/html": [
       "<div>\n",
       "<style scoped>\n",
       "    .dataframe tbody tr th:only-of-type {\n",
       "        vertical-align: middle;\n",
       "    }\n",
       "\n",
       "    .dataframe tbody tr th {\n",
       "        vertical-align: top;\n",
       "    }\n",
       "\n",
       "    .dataframe thead th {\n",
       "        text-align: right;\n",
       "    }\n",
       "</style>\n",
       "<table border=\"1\" class=\"dataframe\">\n",
       "  <thead>\n",
       "    <tr style=\"text-align: right;\">\n",
       "      <th></th>\n",
       "      <th>lon</th>\n",
       "      <th>lat</th>\n",
       "      <th>radius (km)</th>\n",
       "      <th>value</th>\n",
       "      <th>mean</th>\n",
       "      <th>std</th>\n",
       "    </tr>\n",
       "  </thead>\n",
       "  <tbody>\n",
       "    <tr>\n",
       "      <th>0.75</th>\n",
       "      <td>28.95</td>\n",
       "      <td>41.03</td>\n",
       "      <td>0.75</td>\n",
       "      <td>avg_vis</td>\n",
       "      <td>577.409390</td>\n",
       "      <td>16.947791</td>\n",
       "    </tr>\n",
       "    <tr>\n",
       "      <th>3.25</th>\n",
       "      <td>28.95</td>\n",
       "      <td>41.03</td>\n",
       "      <td>3.25</td>\n",
       "      <td>avg_vis</td>\n",
       "      <td>499.255253</td>\n",
       "      <td>122.823918</td>\n",
       "    </tr>\n",
       "    <tr>\n",
       "      <th>7.50</th>\n",
       "      <td>28.95</td>\n",
       "      <td>41.03</td>\n",
       "      <td>7.50</td>\n",
       "      <td>avg_vis</td>\n",
       "      <td>389.229512</td>\n",
       "      <td>182.805458</td>\n",
       "    </tr>\n",
       "    <tr>\n",
       "      <th>17.50</th>\n",
       "      <td>28.95</td>\n",
       "      <td>41.03</td>\n",
       "      <td>17.50</td>\n",
       "      <td>avg_vis</td>\n",
       "      <td>205.333103</td>\n",
       "      <td>174.086222</td>\n",
       "    </tr>\n",
       "    <tr>\n",
       "      <th>37.50</th>\n",
       "      <td>28.95</td>\n",
       "      <td>41.03</td>\n",
       "      <td>37.50</td>\n",
       "      <td>avg_vis</td>\n",
       "      <td>71.543302</td>\n",
       "      <td>118.355557</td>\n",
       "    </tr>\n",
       "  </tbody>\n",
       "</table>\n",
       "</div>"
      ],
      "text/plain": [
       "         lon    lat  radius (km)    value        mean         std\n",
       "0.75   28.95  41.03         0.75  avg_vis  577.409390   16.947791\n",
       "3.25   28.95  41.03         3.25  avg_vis  499.255253  122.823918\n",
       "7.50   28.95  41.03         7.50  avg_vis  389.229512  182.805458\n",
       "17.50  28.95  41.03        17.50  avg_vis  205.333103  174.086222\n",
       "37.50  28.95  41.03        37.50  avg_vis   71.543302  118.355557"
      ]
     },
     "metadata": {},
     "execution_count": 84
    }
   ],
   "metadata": {}
  },
  {
   "cell_type": "markdown",
   "source": [
    "We now have the mean and standard deviation light intensity for a range of increasing areas around the city of Istanbul. If we want to visualize the complete set of areas for which we have data, we can plot all of our values from the `ist_buffs` table - the first object returned from our function. We can first plot only the buffer areas themselves:"
   ],
   "metadata": {}
  },
  {
   "cell_type": "code",
   "execution_count": 49,
   "source": [
    "ist_buffs.sort_values(by='radius', ascending=False).plot(column='radius')"
   ],
   "outputs": [
    {
     "output_type": "execute_result",
     "data": {
      "text/plain": [
       "<AxesSubplot:>"
      ]
     },
     "metadata": {},
     "execution_count": 49
    },
    {
     "output_type": "display_data",
     "data": {
      "image/png": "[encoded data removed]",
      "text/plain": [
       "<Figure size 432x288 with 1 Axes>"
      ]
     },
     "metadata": {
      "needs_background": "light"
     }
    }
   ],
   "metadata": {}
  },
  {
   "cell_type": "markdown",
   "source": [
    "Once again, it would be helpful to have a background map of Istanbul to put these areas in context. We can use the same process as above for our single 750m buffer area to instead plot all our areas over the map of Istanbul:"
   ],
   "metadata": {}
  },
  {
   "cell_type": "code",
   "execution_count": 50,
   "source": [
    "fig, ax = plt.subplots(figsize=(12,6))\n",
    "ax.set_aspect('equal')\n",
    "\n",
    "ist_gpd.plot(ax=ax, color='green', edgecolor='black')\n",
    "ist_buffs.sort_values(by='radius', ascending=False).plot(ax=ax, column='radius', alpha=0.8, cmap='YlGnBu_r')\n",
    "plt.title('Istanbul Map and City Center with Increasing Buffer Areas')\n",
    "plt.xlabel('Longitude')\n",
    "plt.ylabel('Latitude')\n",
    "plt.show()\n"
   ],
   "outputs": [
    {
     "output_type": "display_data",
     "data": {
      "image/png": "[encoded data removed]",
      "text/plain": [
       "<Figure size 864x432 with 1 Axes>"
      ]
     },
     "metadata": {
      "needs_background": "light"
     }
    }
   ],
   "metadata": {}
  },
  {
   "cell_type": "markdown",
   "source": [
    "## Characterize City Centrality\n",
    "\n",
    "We can next use our values of mean radiance in each layer to characterize the centrality of a city. In \"Subways and Urban Growth: Evidence from Earth\", Gonzalez-Navarro and Turner use the regression $$lny_i=A+Blnx_i+\\epsilon_i$$ to create these centrality measures, where $y_i$ is the mean light intensity within an area, $x_i$ is the radius of the associated area, and B is the rate at which light decays when increasing the distance from the city center. A higher negative value for B indicates that the city density decreases more rapidly, which the authors identify as an indication of greater centralization.  \n",
    "  \n",
    "We'll be using the package `scikit-learn`, a powerful machine learning package in Python, to perform the regression. To install sklearn, follow the [installation guide](https://scikit-learn.org/stable/install.html)."
   ],
   "metadata": {}
  },
  {
   "cell_type": "code",
   "execution_count": 54,
   "source": [
    "import numpy as np\n",
    "from sklearn.linear_model import LinearRegression \n",
    "\n",
    "y = np.log(ist_lights['mean'])\n",
    "x = np.array(np.log(ist_lights['radius (km)'])).reshape((-1,1))\n",
    "\n",
    "lin_model = LinearRegression().fit(x, y)"
   ],
   "outputs": [],
   "metadata": {}
  },
  {
   "cell_type": "code",
   "execution_count": 55,
   "source": [
    "print(\"\"\"\n",
    "    Intercept: {}\n",
    "    Slope: {}\n",
    "\n",
    "\"\"\".format(\n",
    "        lin_model.intercept_,\n",
    "        lin_model.coef_[0]\n",
    "))"
   ],
   "outputs": [
    {
     "output_type": "stream",
     "name": "stdout",
     "text": [
      "\n",
      "    Intercept: 6.566764153523353\n",
      "    Slope: -0.500727953994751\n",
      "\n",
      "\n"
     ]
    }
   ],
   "metadata": {}
  },
  {
   "cell_type": "markdown",
   "source": [
    "We can follow Gonzalez-Navarro and Turner (2018) and interpret the intercept as the brightness at the city center. The slope is interpreted as the rate at which light decays from the center, which provides a measure of city centralization. Comparing these measures of brightness and centralization across cities can produce useful comparisons, as can comparing the same city over time. However, in order to use these radiance calibrated nighttime lights data from multiple years and satellites, we'll need to first perform inter-annual calibration. "
   ],
   "metadata": {}
  },
  {
   "cell_type": "markdown",
   "source": [
    "# INTER-ANNUAL CALIBRATION\n",
    "\n",
    "## Inter-annual Calibration of Radiance Calibrated Nighttime Lights Data\n",
    "\n",
    "As mentioned in Section 1, the variation between sensors and across years makes these data incomparable when used directly. Instead, we must perform inter-annual calibration to bring all data files to a common scale which we can directly compare over time. The [documentation](https://ngdc.noaa.gov/eog/dmsp/radcal_readme.txt) for these data provide instructions on inter-annual calibration using the 2005 data as a reference set. All other data files will be adjusted according to the formula $$Y=Coeff_0+Coeff_1*X$$ where Y is the adjusted data, X is the original data, and the coefficients are provided unique to each data file in Table 3 of the documentation. \n",
    "\n",
    "We can create a pandas dataframe in Python which contains these values and which we can use to adjust each of the datasets. "
   ],
   "metadata": {}
  },
  {
   "cell_type": "code",
   "execution_count": 56,
   "source": [
    "coefs_df = pd.DataFrame(\n",
    "    {'C0': [4.336,\n",
    "            1.423,\n",
    "            3.658,\n",
    "            3.736,\n",
    "            1.062,\n",
    "            2.196,\n",
    "            -1.987\n",
    "            ], \n",
    "    'C1': [0.915,\n",
    "            0.78,\n",
    "            0.71,\n",
    "            0.797,\n",
    "            0.761,\n",
    "            1.195,\n",
    "            1.246\n",
    "            ]}, \n",
    "    index=['F12_19960316-19970212_rad_v4',\n",
    "            'F12_19990119-19991211_rad_v4',\n",
    "            'F12-F15_20000103-20001229_rad_v4',\n",
    "            'F14-F15_20021230-20031127_rad_v4',\n",
    "            'F14_20040118-20041216_rad_v4',\n",
    "            'F16_20100111-20101209_rad_v4',\n",
    "            'F16_20100111-20110731_rad_v4'\n",
    "            ])\n",
    "coefs_df"
   ],
   "outputs": [
    {
     "output_type": "execute_result",
     "data": {
      "text/html": [
       "<div>\n",
       "<style scoped>\n",
       "    .dataframe tbody tr th:only-of-type {\n",
       "        vertical-align: middle;\n",
       "    }\n",
       "\n",
       "    .dataframe tbody tr th {\n",
       "        vertical-align: top;\n",
       "    }\n",
       "\n",
       "    .dataframe thead th {\n",
       "        text-align: right;\n",
       "    }\n",
       "</style>\n",
       "<table border=\"1\" class=\"dataframe\">\n",
       "  <thead>\n",
       "    <tr style=\"text-align: right;\">\n",
       "      <th></th>\n",
       "      <th>C0</th>\n",
       "      <th>C1</th>\n",
       "    </tr>\n",
       "  </thead>\n",
       "  <tbody>\n",
       "    <tr>\n",
       "      <th>F12_19960316-19970212_rad_v4</th>\n",
       "      <td>4.336</td>\n",
       "      <td>0.915</td>\n",
       "    </tr>\n",
       "    <tr>\n",
       "      <th>F12_19990119-19991211_rad_v4</th>\n",
       "      <td>1.423</td>\n",
       "      <td>0.780</td>\n",
       "    </tr>\n",
       "    <tr>\n",
       "      <th>F12-F15_20000103-20001229_rad_v4</th>\n",
       "      <td>3.658</td>\n",
       "      <td>0.710</td>\n",
       "    </tr>\n",
       "    <tr>\n",
       "      <th>F14-F15_20021230-20031127_rad_v4</th>\n",
       "      <td>3.736</td>\n",
       "      <td>0.797</td>\n",
       "    </tr>\n",
       "    <tr>\n",
       "      <th>F14_20040118-20041216_rad_v4</th>\n",
       "      <td>1.062</td>\n",
       "      <td>0.761</td>\n",
       "    </tr>\n",
       "    <tr>\n",
       "      <th>F16_20100111-20101209_rad_v4</th>\n",
       "      <td>2.196</td>\n",
       "      <td>1.195</td>\n",
       "    </tr>\n",
       "    <tr>\n",
       "      <th>F16_20100111-20110731_rad_v4</th>\n",
       "      <td>-1.987</td>\n",
       "      <td>1.246</td>\n",
       "    </tr>\n",
       "  </tbody>\n",
       "</table>\n",
       "</div>"
      ],
      "text/plain": [
       "                                     C0     C1\n",
       "F12_19960316-19970212_rad_v4      4.336  0.915\n",
       "F12_19990119-19991211_rad_v4      1.423  0.780\n",
       "F12-F15_20000103-20001229_rad_v4  3.658  0.710\n",
       "F14-F15_20021230-20031127_rad_v4  3.736  0.797\n",
       "F14_20040118-20041216_rad_v4      1.062  0.761\n",
       "F16_20100111-20101209_rad_v4      2.196  1.195\n",
       "F16_20100111-20110731_rad_v4     -1.987  1.246"
      ]
     },
     "metadata": {},
     "execution_count": 56
    }
   ],
   "metadata": {}
  },
  {
   "cell_type": "markdown",
   "source": [
    "We can use the data from 2004 as an example of performing this calibration. We'll be adjusting these 2004 values according to the formula and coefficients provided above, ultimately producing an output image $$Y_{2004}=1.062+0.761*X_{2004}$$ where $X_{2004}$ is the raw image obtained of the 2004 satellite data. We can first follow the same process as above to obtain the 2004 radiance calibrated nighttime lights data."
   ],
   "metadata": {}
  },
  {
   "cell_type": "code",
   "execution_count": 136,
   "source": [
    "dmsp_04 = ee.ImageCollection(\"NOAA/DMSP-OLS/CALIBRATED_LIGHTS_V4\").filterDate('2004-01-01', '2004-12-31')\n",
    "dmsp_04.size().getInfo()"
   ],
   "outputs": [
    {
     "output_type": "execute_result",
     "data": {
      "text/plain": [
       "1"
      ]
     },
     "metadata": {},
     "execution_count": 136
    }
   ],
   "metadata": {}
  },
  {
   "cell_type": "code",
   "execution_count": 135,
   "source": [
    "from datetime import datetime\n",
    "\n",
    "# Confirm correct date (code from World Bank Nighttime Lights Tutorial)\n",
    "imgrange = dmsp_04.reduceColumns(ee.Reducer.minMax(), [\"system:time_start\"])\n",
    "start = ee.Date(imgrange.get('min')).getInfo()['value']\n",
    "end = ee.Date(imgrange.get('max')).getInfo()['value']\n",
    "\n",
    "start = datetime.utcfromtimestamp(start/1000).strftime('%Y-%m-%d %H:%M:%S')\n",
    "end = datetime.utcfromtimestamp(end/1000).strftime('%Y-%m-%d %H:%M:%S')\n",
    "print(f\"Date range: {start, end}\")"
   ],
   "outputs": [
    {
     "output_type": "stream",
     "name": "stdout",
     "text": [
      "Date range: ('2004-01-18 00:00:00', '2004-01-18 00:00:00')\n"
     ]
    }
   ],
   "metadata": {}
  },
  {
   "cell_type": "markdown",
   "source": [
    "To correct these 2004 values according to our equation, we'll use the GEE `.expression()` method to apply our formula to the ImageCollection data. We'll define a function `calibrate_lights()` which will cycle through all Images in an ImageCollection (though in the case of our `dmsp_04` ImageCollection, only a single Image is present), apply the formula to the values in each Image, and return an ImageCollection of the same size with values calculated from the formula."
   ],
   "metadata": {}
  },
  {
   "cell_type": "code",
   "execution_count": 137,
   "source": [
    "def calibrate_lights(img):\n",
    "    cal_img = img.expression('1.062 + (0.761 * x)', {'x': img.select('avg_vis')})\n",
    "    return cal_img.rename(['avg_vis'])\n",
    "dmsp04_clbr = dmsp_04.map(calibrate_lights)"
   ],
   "outputs": [],
   "metadata": {}
  },
  {
   "cell_type": "markdown",
   "source": [
    "Now, let's visualize the differences between our original values and these new calibrated ones. We'll follow the same process described in the [World Bank's Open Nighttime Lights Tutorial, Section 5.1.3](https://worldbank.github.io/OpenNightLights/tutorials/mod5_1_DMSP-OLS_intercalibration.html)."
   ],
   "metadata": {}
  },
  {
   "cell_type": "code",
   "execution_count": 142,
   "source": [
    "# convert both the original DMSP-OLS radiance calibrated 2004 layer and the re-calibrated layer to numpy arrays\n",
    "dmsp2004_arr = geemap.ee_to_numpy(dmsp_04_vis, region=ist_geom)\n",
    "dmsp2004_clbr_arr = geemap.ee_to_numpy(dmsp04_clbr.median(), region=ist_geom)"
   ],
   "outputs": [],
   "metadata": {}
  },
  {
   "cell_type": "code",
   "execution_count": 143,
   "source": [
    "import seaborn as sns\n",
    "\n",
    "# Plot numpy arrays to compare distribution of values\n",
    "fig, ax = plt.subplots(figsize=(15,5))\n",
    "sns.kdeplot(dmsp2004_arr.flatten(), label='non-calibrated',legend=True, ax=ax)\n",
    "sns.kdeplot(dmsp2004_clbr_arr.flatten(), label='calibrated',legend=True, ax=ax)\n",
    "plt.legend(fontsize=20)\n",
    "plt.title('Distribution of DMSP-OLS Radiance Calibrated 2004 composite calibrated vs non (smoothed w/ Gaussian kernel)', fontsize=20);"
   ],
   "outputs": [
    {
     "output_type": "display_data",
     "data": {
      "image/png": "[encoded data removed]",
      "text/plain": [
       "<Figure size 1080x360 with 1 Axes>"
      ]
     },
     "metadata": {
      "needs_background": "light"
     }
    }
   ],
   "metadata": {}
  },
  {
   "cell_type": "markdown",
   "source": [
    "While this works well for a single year's calibration, if we want to calibrate multiple years it would be easier to create a function which can use our `coefs_df` DataFrame of coefficients and automatically calibrate the ImageCollections for each year. See the World Bank's [Open Night Lights module 5, section 1.4](https://worldbank.github.io/OpenNightLights/tutorials/mod5_1_DMSP-OLS_intercalibration.html) for a function which will obtain and apply coefficients as well as clip the final Images. "
   ],
   "metadata": {}
  },
  {
   "cell_type": "markdown",
   "source": [
    "# USAGE EXAMPLE\n",
    "\n",
    "These radiance calibrated nighttime lights can be used to study a number of phenomena within city boundaries where the amount of lighting causes saturation in the standard DMSP-OLS nighttime lights data. In \"Subways and Urban Growth: Evidence from Earth\" (2018), by Gonzalez-Navarro and Turner, one of the questions the authors consider is the effect of subways on urban centralization. They measure urban centralization with the light gradient and city center brightness from the regression equation we utilized above: $$lny_i=A+Blnx_i+\\epsilon_i$$ where $y_i$ is the mean light intensity within an area, $x_i$ is the radius of the associated area, and B is the rate at which light decays when increasing the distance from the city center.  \n",
    "  \n",
    "Using A and B as their dependent variables, the authors perform a first difference regression of these light values on the number of subway stations to identify the extent of centralization in cities with larger subway networks. The independent variable in their dataset is `Dlop`, which is the difference in natural log of the number of subway stations in a city over 5-year periods. The dependent variables are `Dlinear_b1`, which is the difference in light gradient over 5-year periods, and `Dlinear_b0`, which is the difference in light intercept over 5-year periods. They use country GDP (specifically, the difference in natural log of a country's GDP, `Dlgdp`), population (specifically, the difference in natural log of a country's population, `Dlcountry_pop`), continent (`continent`), and 5-year groupings (`quinquenial`) as controls and cluster on urbancode, which uniquely identifies cities.  \n",
    "  \n",
    "The authors created a comprehensive subway dataset to provide the primary independent variable in this analysis. This dataset contains information on station locations and years built for all subway stations worldwide. They make this data available for all users, and it can be downloaded [here](https://dataverse.harvard.edu/dataset.xhtml?persistentId=doi:10.7910/DVN/VHPRTA) in the `subway_census_v1` folder. For more information on this dataset and a tutorial on its use, see the Geo4Dev Subways Learning Module. "
   ],
   "metadata": {}
  },
  {
   "cell_type": "markdown",
   "source": [
    "We can use the package `statsmodels` in order to run this regression. To install, you can use `conda install statsmodels` if you're using a conda environment or `pip install statsmodels` if not.  \n",
    "  \n",
    "First, we'll read in the replication data, which you can download [here](https://dataverse.harvard.edu/dataset.xhtml?persistentId=doi:10.7910/DVN/VHPRTA) as a 7Z folder. 7Z files are compressed using the open-source 7-Zip tool and typically require a third-party app to access. There are many apps available to open 7Z files, but an easy option for Windows users is to download the [7-Zip app directly](https://www.7-zip.org/download.html). MacOS users can use a tool like the  [Unarchiver](https://www.howtogeek.com/226729/how-to-open-7z-and-other-archive-files-on-os-x/). For a more detailed description of working with 7Z files, see [this tutorial for Windows](https://www.howtogeek.com/357846/what-is-a-7z-file-and-how-do-i-open-one/) or [this guide for macOS](https://www.howtogeek.com/226729/how-to-open-7z-and-other-archive-files-on-os-x/).  \n",
    "  \n",
    "Once we've read in the data, we'll create a pandas `datetime` version of the year field to use as one of our indices and include `urbanname` (the city name) as another index field. "
   ],
   "metadata": {}
  },
  {
   "cell_type": "code",
   "execution_count": 144,
   "source": [
    "rep_data = pd.read_stata('./replication_file/data/analyze_me2_lights.dta')\n",
    "rep_data['year_dt'] = pd.to_datetime(rep_data['year'])\n",
    "rep_data.set_index(['urbanname','year_dt'], inplace=True)"
   ],
   "outputs": [],
   "metadata": {}
  },
  {
   "cell_type": "markdown",
   "source": [
    "Now, we can run our first regression using the light gradient, B, as the dependent variable to measure the effect of subway extent on city centralization."
   ],
   "metadata": {}
  },
  {
   "cell_type": "code",
   "execution_count": 146,
   "source": [
    "import statsmodels.formula.api as smf\n",
    "rep_data_filt = rep_data[rep_data['sub2010']>0]\n",
    "\n",
    "# regression using light gradient B as dependent variable\n",
    "b_fit = smf.ols(formula='Dlinear_b1 ~ 1 + Dlop + Dlgdp + Dlcountry_pop + C(quinquenial)*C(continent)', data = rep_data_filt).fit(clustered=True)\n",
    "print(b_fit.summary())"
   ],
   "outputs": [
    {
     "output_type": "stream",
     "name": "stdout",
     "text": [
      "                            OLS Regression Results                            \n",
      "==============================================================================\n",
      "Dep. Variable:             Dlinear_b1   R-squared:                       0.190\n",
      "Model:                            OLS   Adj. R-squared:                  0.154\n",
      "Method:                 Least Squares   F-statistic:                     5.405\n",
      "Date:                Wed, 30 Jun 2021   Prob (F-statistic):           7.06e-11\n",
      "Time:                        00:34:56   Log-Likelihood:                 299.81\n",
      "No. Observations:                 411   AIC:                            -563.6\n",
      "Df Residuals:                     393   BIC:                            -491.3\n",
      "Df Model:                          17                                         \n",
      "Covariance Type:            nonrobust                                         \n",
      "=======================================================================================================================\n",
      "                                                          coef    std err          t      P>|t|      [0.025      0.975]\n",
      "-----------------------------------------------------------------------------------------------------------------------\n",
      "Intercept                                               0.0943      0.053      1.789      0.074      -0.009       0.198\n",
      "C(quinquenial)[T.2.0]                                  -0.0415      0.099     -0.419      0.675      -0.236       0.153\n",
      "C(quinquenial)[T.3.0]                                   0.0596      0.099      0.602      0.547      -0.135       0.254\n",
      "C(quinquenial)[T.4.0]                                   0.0762      0.099      0.769      0.442      -0.119       0.271\n",
      "C(continent)[T.Asia]                                   -0.0754      0.052     -1.438      0.151      -0.179       0.028\n",
      "C(continent)[T.Europe]                                 -0.0504      0.053     -0.953      0.341      -0.154       0.054\n",
      "C(continent)[T.North America]                          -0.0548      0.053     -1.041      0.299      -0.158       0.049\n",
      "C(continent)[T.South America]                          -0.0624      0.054     -1.164      0.245      -0.168       0.043\n",
      "C(quinquenial)[T.2.0]:C(continent)[T.Asia]             -0.0133      0.100     -0.133      0.894      -0.210       0.183\n",
      "C(quinquenial)[T.3.0]:C(continent)[T.Asia]             -0.0595      0.100     -0.595      0.552      -0.256       0.137\n",
      "C(quinquenial)[T.4.0]:C(continent)[T.Asia]             -0.0026      0.100     -0.026      0.979      -0.199       0.194\n",
      "C(quinquenial)[T.2.0]:C(continent)[T.Europe]           -0.0192      0.100     -0.192      0.848      -0.216       0.178\n",
      "C(quinquenial)[T.3.0]:C(continent)[T.Europe]           -0.0450      0.100     -0.449      0.653      -0.242       0.152\n",
      "C(quinquenial)[T.4.0]:C(continent)[T.Europe]            0.0139      0.100      0.138      0.890      -0.184       0.211\n",
      "C(quinquenial)[T.2.0]:C(continent)[T.North America]     0.0452      0.101      0.449      0.654      -0.153       0.243\n",
      "C(quinquenial)[T.3.0]:C(continent)[T.North America]    -0.0789      0.101     -0.784      0.434      -0.277       0.119\n",
      "C(quinquenial)[T.4.0]:C(continent)[T.North America]    -0.0212      0.101     -0.210      0.834      -0.220       0.177\n",
      "C(quinquenial)[T.2.0]:C(continent)[T.South America]     0.0146      0.103      0.143      0.887      -0.187       0.216\n",
      "C(quinquenial)[T.3.0]:C(continent)[T.South America]    -0.0334      0.102     -0.326      0.745      -0.235       0.168\n",
      "C(quinquenial)[T.4.0]:C(continent)[T.South America]    -0.0436      0.102     -0.426      0.671      -0.245       0.158\n",
      "Dlop                                                    0.0233      0.008      3.047      0.002       0.008       0.038\n",
      "Dlgdp                                                  -0.0782      0.051     -1.519      0.130      -0.179       0.023\n",
      "Dlcountry_pop                                          -0.0051      0.130     -0.039      0.969      -0.261       0.251\n",
      "==============================================================================\n",
      "Omnibus:                      361.562   Durbin-Watson:                   2.373\n",
      "Prob(Omnibus):                  0.000   Jarque-Bera (JB):            22424.227\n",
      "Skew:                          -3.307   Prob(JB):                         0.00\n",
      "Kurtosis:                      38.577   Cond. No.                     2.51e+16\n",
      "==============================================================================\n",
      "\n",
      "Notes:\n",
      "[1] Standard Errors assume that the covariance matrix of the errors is correctly specified.\n",
      "[2] The smallest eigenvalue is 1.28e-30. This might indicate that there are\n",
      "strong multicollinearity problems or that the design matrix is singular.\n"
     ]
    }
   ],
   "metadata": {}
  },
  {
   "cell_type": "markdown",
   "source": [
    "The coefficient on the `Dlop` value, which represents the difference in the natural log of subway stations, is the value of interest in this regression: we find a coefficient of 0.0233, which indicates that as the number of subway stations in a city increases, the rate at which light decays becomes more positive. Since a light gradient is negative, with a large negative number indicating the light drops off quickly after leaving a city center, this positive coefficient provides evidence in favor of a smoother light gradient in cities with more extensive subway systems. This aligns with the results in Gonzalez-Navarro and Turner (Table 10, Panel a) and is interpreted as subways encouraging greater decentralization of cities.  \n",
    "  \n",
    "We can next consider the same regression using the light intercept - that is, the brightness at a city's center - as the dependent variable."
   ],
   "metadata": {}
  },
  {
   "cell_type": "code",
   "execution_count": 144,
   "source": [
    "# regression using light intercept A as dependent variable\n",
    "a_fit = smf.ols(formula='Dlinear_b0 ~ 1 + Dlop + Dlgdp + Dlcountry_pop + C(quinquenial)*C(continent)', data = rep_data_filt).fit()\n",
    "print(a_fit.summary())"
   ],
   "outputs": [
    {
     "output_type": "stream",
     "name": "stdout",
     "text": [
      "                            OLS Regression Results                            \n",
      "==============================================================================\n",
      "Dep. Variable:             Dlinear_b0   R-squared:                       0.303\n",
      "Model:                            OLS   Adj. R-squared:                  0.273\n",
      "Method:                 Least Squares   F-statistic:                     10.05\n",
      "Date:                Wed, 30 Jun 2021   Prob (F-statistic):           3.01e-22\n",
      "Time:                        00:20:34   Log-Likelihood:                -587.54\n",
      "No. Observations:                 411   AIC:                             1211.\n",
      "Df Residuals:                     393   BIC:                             1283.\n",
      "Df Model:                          17                                         \n",
      "Covariance Type:            nonrobust                                         \n",
      "=======================================================================================================================\n",
      "                                                          coef    std err          t      P>|t|      [0.025      0.975]\n",
      "-----------------------------------------------------------------------------------------------------------------------\n",
      "Intercept                                              -0.9692      0.457     -2.121      0.035      -1.867      -0.071\n",
      "C(quinquenial)[T.2.0]                                   0.5375      0.858      0.627      0.531      -1.149       2.224\n",
      "C(quinquenial)[T.3.0]                                  -0.5237      0.857     -0.611      0.542      -2.209       1.162\n",
      "C(quinquenial)[T.4.0]                                  -0.9831      0.859     -1.145      0.253      -2.671       0.705\n",
      "C(continent)[T.Asia]                                    0.7354      0.454      1.619      0.106      -0.158       1.629\n",
      "C(continent)[T.Europe]                                  0.5151      0.458      1.126      0.261      -0.385       1.415\n",
      "C(continent)[T.North America]                           0.4699      0.456      1.029      0.304      -0.428       1.367\n",
      "C(continent)[T.South America]                           0.6370      0.464      1.372      0.171      -0.276       1.550\n",
      "C(quinquenial)[T.2.0]:C(continent)[T.Asia]              0.2305      0.865      0.266      0.790      -1.471       1.932\n",
      "C(quinquenial)[T.3.0]:C(continent)[T.Asia]              0.3650      0.867      0.421      0.674      -1.339       2.069\n",
      "C(quinquenial)[T.4.0]:C(continent)[T.Asia]              0.1400      0.865      0.162      0.872      -1.562       1.842\n",
      "C(quinquenial)[T.2.0]:C(continent)[T.Europe]            0.2037      0.868      0.235      0.815      -1.503       1.910\n",
      "C(quinquenial)[T.3.0]:C(continent)[T.Europe]            0.2324      0.868      0.268      0.789      -1.475       1.940\n",
      "C(quinquenial)[T.4.0]:C(continent)[T.Europe]            0.0790      0.870      0.091      0.928      -1.631       1.789\n",
      "C(quinquenial)[T.2.0]:C(continent)[T.North America]    -0.3701      0.872     -0.424      0.671      -2.084       1.344\n",
      "C(quinquenial)[T.3.0]:C(continent)[T.North America]     0.3927      0.871      0.451      0.652      -1.320       2.106\n",
      "C(quinquenial)[T.4.0]:C(continent)[T.North America]     0.4473      0.875      0.511      0.609      -1.272       2.167\n",
      "C(quinquenial)[T.2.0]:C(continent)[T.South America]     0.0342      0.888      0.038      0.969      -1.712       1.780\n",
      "C(quinquenial)[T.3.0]:C(continent)[T.South America]     0.1037      0.888      0.117      0.907      -1.641       1.849\n",
      "C(quinquenial)[T.4.0]:C(continent)[T.South America]     0.4991      0.888      0.562      0.574      -1.246       2.244\n",
      "Dlop                                                   -0.1966      0.066     -2.969      0.003      -0.327      -0.066\n",
      "Dlgdp                                                   1.3563      0.446      3.040      0.003       0.479       2.233\n",
      "Dlcountry_pop                                           0.1441      1.129      0.128      0.898      -2.075       2.363\n",
      "==============================================================================\n",
      "Omnibus:                      232.872   Durbin-Watson:                   2.371\n",
      "Prob(Omnibus):                  0.000   Jarque-Bera (JB):             5498.912\n",
      "Skew:                           1.908   Prob(JB):                         0.00\n",
      "Kurtosis:                      20.508   Cond. No.                     2.51e+16\n",
      "==============================================================================\n",
      "\n",
      "Notes:\n",
      "[1] Standard Errors assume that the covariance matrix of the errors is correctly specified.\n",
      "[2] The smallest eigenvalue is 1.28e-30. This might indicate that there are\n",
      "strong multicollinearity problems or that the design matrix is singular.\n"
     ]
    }
   ],
   "metadata": {}
  },
  {
   "cell_type": "markdown",
   "source": [
    "We find a coefficient of -0.1966 for our variable of interest, `Dlop`, the difference in natural log of subway stations over 5-year periods. This indicates that as the number of subway stations in a city increases, the brightness of the city center itself decreases, which is further evidence of subways encouraging decentralization of a city. "
   ],
   "metadata": {}
  }
 ],
 "metadata": {
  "interpreter": {
   "hash": "cda595cc091c472e9dda46637922ba357e006ec97741f8a0b4e3fc352369fe49"
  },
  "kernelspec": {
   "name": "python3",
   "display_name": "Python 3.9.6 64-bit"
  },
  "language_info": {
   "codemirror_mode": {
    "name": "ipython",
    "version": 3
   },
   "file_extension": ".py",
   "mimetype": "text/x-python",
   "name": "python",
   "nbconvert_exporter": "python",
   "pygments_lexer": "ipython3",
   "version": "3.9.6"
  },
  "orig_nbformat": 2
 },
 "nbformat": 4,
 "nbformat_minor": 2
}